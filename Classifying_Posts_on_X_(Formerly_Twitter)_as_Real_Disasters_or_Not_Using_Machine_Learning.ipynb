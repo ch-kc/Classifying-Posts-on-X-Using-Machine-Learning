{
  "cells": [
    {
      "cell_type": "markdown",
      "metadata": {
        "id": "view-in-github",
        "colab_type": "text"
      },
      "source": [
        "<a href=\"https://colab.research.google.com/github/ch-kc/Classifying-Posts-on-X-Using-Machine-Learning/blob/main/Classifying_Posts_on_X_(Formerly_Twitter)_as_Real_Disasters_or_Not_Using_Machine_Learning.ipynb\" target=\"_parent\"><img src=\"https://colab.research.google.com/assets/colab-badge.svg\" alt=\"Open In Colab\"/></a>"
      ]
    },
    {
      "cell_type": "markdown",
      "metadata": {
        "id": "Iwjxdrw2O_KV"
      },
      "source": [
        "## Classifying Posts on X (Formerly Twitter) as Real Disasters or Not Using Machine Learning\n",
        "\n",
        "This project leverages machine learning techniques to classify posts on X (formerly known as Twitter) by determining whether they discuss actual disaster events. By analyzing textual data from social media posts, the system is designed to identify patterns, keywords, and context that distinguish genuine disaster-related content from non-disaster-related material. This classification is crucial for emergency response teams, disaster relief organizations, and the general public, providing a tool to quickly sift through massive amounts of social media data for accurate and actionable information during crises. Through rigorous training on diverse datasets, the model aims to achieve high accuracy and reliability, reducing the spread of misinformation and enhancing the effectiveness of disaster response strategies."
      ]
    },
    {
      "cell_type": "markdown",
      "metadata": {
        "id": "AMHcmAJOQmOA"
      },
      "source": [
        "### Authors\n",
        "- Kesi Chapman\n",
        "- Danielle McIntosh"
      ]
    },
    {
      "cell_type": "markdown",
      "metadata": {
        "id": "0RwduuGjpahi"
      },
      "source": [
        "# Setup and Preprocessing"
      ]
    },
    {
      "cell_type": "code",
      "execution_count": 1,
      "metadata": {
        "id": "fU_jR3MtOzsY"
      },
      "outputs": [],
      "source": [
        "import numpy as np\n",
        "import matplotlib.pyplot as plt\n",
        "import pandas as pd\n",
        "import seaborn as sns\n",
        "import tensorflow as tf\n",
        "import requests\n",
        "import re\n",
        "import os\n",
        "\n",
        "from scipy.sparse import hstack\n",
        "from sklearn.feature_selection import SelectKBest, chi2\n",
        "from sklearn.model_selection import train_test_split\n",
        "from sklearn.feature_extraction.text import TfidfVectorizer\n",
        "from sklearn.linear_model import LogisticRegression\n",
        "from sklearn.metrics import accuracy_score, classification_report\n",
        "from sklearn.dummy import DummyClassifier\n",
        "from sklearn.pipeline import FeatureUnion, Pipeline\n",
        "from sklearn.preprocessing import FunctionTransformer, StandardScaler\n",
        "from tensorflow.keras.models import Sequential\n",
        "from tensorflow.keras.layers import Dense, Embedding, GlobalAveragePooling1D, LSTM, Conv1D, MaxPooling1D, Dropout, GlobalMaxPooling1D\n",
        "from tensorflow.keras.preprocessing.text import Tokenizer\n",
        "from tensorflow.keras.preprocessing.sequence import pad_sequences\n",
        "from tensorflow.keras.optimizers import Adam\n",
        "from tensorflow.keras.models import Sequential\n",
        "from tensorflow.keras.layers import Dense, Embedding, Flatten, LSTM\n",
        "from tensorflow.keras.preprocessing.text import Tokenizer\n",
        "from tensorflow.keras.preprocessing.sequence import pad_sequences\n",
        "\n",
        "%matplotlib inline"
      ]
    },
    {
      "cell_type": "markdown",
      "metadata": {
        "id": "8huJ6Z7uYVhh"
      },
      "source": [
        "### Install Kaggle"
      ]
    },
    {
      "cell_type": "code",
      "execution_count": null,
      "metadata": {
        "id": "UFM5ZMFfXXc8"
      },
      "outputs": [],
      "source": [
        "# !pip install -q kaggle\n",
        "\n",
        "# from google.colab import files\n",
        "# files.upload()"
      ]
    },
    {
      "cell_type": "code",
      "execution_count": null,
      "metadata": {
        "id": "mWiE2KxQYb6w"
      },
      "outputs": [],
      "source": [
        "# # Create kaggle folder\n",
        "# ! mkdir ~/.kaggle"
      ]
    },
    {
      "cell_type": "code",
      "execution_count": null,
      "metadata": {
        "id": "8OCx6PnGYxTQ"
      },
      "outputs": [],
      "source": [
        "# # Copy the kaggle.json to folder created\n",
        "# ! cp kaggle.json ~/.kaggle/"
      ]
    },
    {
      "cell_type": "code",
      "execution_count": null,
      "metadata": {
        "id": "rq2G5f8fY9s6"
      },
      "outputs": [],
      "source": [
        "# # Grant appropriate permissions for the json to act\n",
        "# ! chmod 600 ~/.kaggle/kaggle.json"
      ]
    },
    {
      "cell_type": "code",
      "execution_count": null,
      "metadata": {
        "id": "o-8MjPCQZPMh"
      },
      "outputs": [],
      "source": [
        "# # List available datasets\n",
        "# ! kaggle datasets list"
      ]
    },
    {
      "cell_type": "code",
      "execution_count": null,
      "metadata": {
        "id": "lItzen3VbRR5"
      },
      "outputs": [],
      "source": [
        "# !kaggle competitions download -c nlp-getting-started"
      ]
    },
    {
      "cell_type": "code",
      "execution_count": null,
      "metadata": {
        "id": "eFF_7GNScdaa"
      },
      "outputs": [],
      "source": [
        "# ! unzip nlp-getting-started.zip"
      ]
    },
    {
      "cell_type": "code",
      "execution_count": null,
      "metadata": {
        "colab": {
          "base_uri": "https://localhost:8080/"
        },
        "id": "au5vQQBIda77",
        "outputId": "cfe719a1-b222-46ce-d6e6-830dca496ad8"
      },
      "outputs": [
        {
          "output_type": "stream",
          "name": "stdout",
          "text": [
            "test file exists.\n",
            "train file exists.\n"
          ]
        }
      ],
      "source": [
        "# Check if the train and test files exist\n",
        "\n",
        "test_file_path = '/content/test.csv'\n",
        "train_file_path = '/content/train.csv'\n",
        "\n",
        "if os.path.exists(test_file_path):\n",
        "    print(\"test file exists.\")\n",
        "else:\n",
        "    print(\"test file does not exist.\")\n",
        "\n",
        "if os.path.exists(train_file_path):\n",
        "    print(\"train file exists.\")\n",
        "else:\n",
        "    print(\"train file does not exist.\")"
      ]
    },
    {
      "cell_type": "markdown",
      "metadata": {
        "id": "wYGE6ZtjVT8v"
      },
      "source": [
        "### Load Data\n",
        "\n",
        "#### Columns\n",
        "* **id** - a unique identifier for each tweet\n",
        "* **text** - the text for the tweet\n",
        "* **location** - the location the tweet was sent from (may be blank)\n",
        "* **keyword** - a particular keyword from the tweet (may be blank)\n",
        "* **target** - in **train.csv** only, denotes wheter a tweet is about a real disaster (1) or not (0).\n"
      ]
    },
    {
      "cell_type": "code",
      "execution_count": null,
      "metadata": {
        "id": "tr7_Nje0VTeh"
      },
      "outputs": [],
      "source": [
        "test_file = '/content/test.csv'\n",
        "test_data = pd.read_csv(test_file)\n",
        "\n",
        "train_file = '/content/train.csv'\n",
        "train_data = pd.read_csv(train_file)"
      ]
    },
    {
      "cell_type": "code",
      "execution_count": null,
      "metadata": {
        "id": "J2wGDnyEXVlc",
        "colab": {
          "base_uri": "https://localhost:8080/"
        },
        "outputId": "d66cda91-4a5d-4fb0-b551-edd7096ab102"
      },
      "outputs": [
        {
          "output_type": "stream",
          "name": "stdout",
          "text": [
            "Column names in the test dataset: Index(['id', 'keyword', 'location', 'text'], dtype='object') \n",
            "\n",
            "\n",
            "   id keyword location                                               text\n",
            "0   0     NaN      NaN                 Just happened a terrible car crash\n",
            "1   2     NaN      NaN  Heard about #earthquake is different cities, s...\n",
            "2   3     NaN      NaN  there is a forest fire at spot pond, geese are...\n",
            "3   9     NaN      NaN           Apocalypse lighting. #Spokane #wildfires\n",
            "4  11     NaN      NaN      Typhoon Soudelor kills 28 in China and Taiwan\n"
          ]
        }
      ],
      "source": [
        "# Print the column names in the dataset\n",
        "print(\"Column names in the test dataset:\", test_data.columns, '\\n\\n')\n",
        "\n",
        "# Print the first few rows of the test dataset\n",
        "print(test_data.head())"
      ]
    },
    {
      "cell_type": "code",
      "execution_count": null,
      "metadata": {
        "id": "lttSA3dSXXRl",
        "colab": {
          "base_uri": "https://localhost:8080/"
        },
        "outputId": "75906f1b-804a-4b9f-8de8-2609b62283c2"
      },
      "outputs": [
        {
          "output_type": "stream",
          "name": "stdout",
          "text": [
            "Column names in the train dataset: Index(['id', 'keyword', 'location', 'text', 'target'], dtype='object') \n",
            "\n",
            "\n",
            "   id keyword location                                               text  \\\n",
            "0   1     NaN      NaN  Our Deeds are the Reason of this #earthquake M...   \n",
            "1   4     NaN      NaN             Forest fire near La Ronge Sask. Canada   \n",
            "2   5     NaN      NaN  All residents asked to 'shelter in place' are ...   \n",
            "3   6     NaN      NaN  13,000 people receive #wildfires evacuation or...   \n",
            "4   7     NaN      NaN  Just got sent this photo from Ruby #Alaska as ...   \n",
            "\n",
            "   target  \n",
            "0       1  \n",
            "1       1  \n",
            "2       1  \n",
            "3       1  \n",
            "4       1  \n"
          ]
        }
      ],
      "source": [
        "# Print the column names in the train dataset\n",
        "print(\"Column names in the train dataset:\", train_data.columns, '\\n\\n')\n",
        "\n",
        "# Print the first few rows of the training dataset\n",
        "print(train_data.head())"
      ]
    },
    {
      "cell_type": "code",
      "execution_count": null,
      "metadata": {
        "id": "Nq-D48IshWXP",
        "colab": {
          "base_uri": "https://localhost:8080/"
        },
        "outputId": "2cd37425-d2ca-4378-f4c7-c5b4c51a9063"
      },
      "outputs": [
        {
          "output_type": "stream",
          "name": "stdout",
          "text": [
            "Training Set Shape = (7613, 5)\n",
            "Training Set Memory Usage = 0.29 MB\n",
            "Test Set Shape = (3263, 4)\n",
            "Test Set Memory Usage = 0.10 MB\n"
          ]
        }
      ],
      "source": [
        "print('Training Set Shape = {}'.format(train_data.shape))\n",
        "print('Training Set Memory Usage = {:.2f} MB'.format(train_data.memory_usage().sum() / 1024**2))\n",
        "print('Test Set Shape = {}'.format(test_data.shape))\n",
        "print('Test Set Memory Usage = {:.2f} MB'.format(test_data.memory_usage().sum() / 1024**2))"
      ]
    },
    {
      "cell_type": "code",
      "execution_count": null,
      "metadata": {
        "id": "c7Riwuzihp-4",
        "colab": {
          "base_uri": "https://localhost:8080/",
          "height": 204
        },
        "outputId": "62479d48-1e78-4929-898f-24a3e32b48d8"
      },
      "outputs": [
        {
          "output_type": "execute_result",
          "data": {
            "text/plain": [
              "   id keyword location                                               text  \\\n",
              "0   1     NaN      NaN  Our Deeds are the Reason of this #earthquake M...   \n",
              "1   4     NaN      NaN             Forest fire near La Ronge Sask. Canada   \n",
              "2   5     NaN      NaN  All residents asked to 'shelter in place' are ...   \n",
              "3   6     NaN      NaN  13,000 people receive #wildfires evacuation or...   \n",
              "4   7     NaN      NaN  Just got sent this photo from Ruby #Alaska as ...   \n",
              "\n",
              "   target  \n",
              "0       1  \n",
              "1       1  \n",
              "2       1  \n",
              "3       1  \n",
              "4       1  "
            ],
            "text/html": [
              "\n",
              "  <div id=\"df-92edcb92-32ed-4fab-aba6-90ff36ce2106\" class=\"colab-df-container\">\n",
              "    <div>\n",
              "<style scoped>\n",
              "    .dataframe tbody tr th:only-of-type {\n",
              "        vertical-align: middle;\n",
              "    }\n",
              "\n",
              "    .dataframe tbody tr th {\n",
              "        vertical-align: top;\n",
              "    }\n",
              "\n",
              "    .dataframe thead th {\n",
              "        text-align: right;\n",
              "    }\n",
              "</style>\n",
              "<table border=\"1\" class=\"dataframe\">\n",
              "  <thead>\n",
              "    <tr style=\"text-align: right;\">\n",
              "      <th></th>\n",
              "      <th>id</th>\n",
              "      <th>keyword</th>\n",
              "      <th>location</th>\n",
              "      <th>text</th>\n",
              "      <th>target</th>\n",
              "    </tr>\n",
              "  </thead>\n",
              "  <tbody>\n",
              "    <tr>\n",
              "      <th>0</th>\n",
              "      <td>1</td>\n",
              "      <td>NaN</td>\n",
              "      <td>NaN</td>\n",
              "      <td>Our Deeds are the Reason of this #earthquake M...</td>\n",
              "      <td>1</td>\n",
              "    </tr>\n",
              "    <tr>\n",
              "      <th>1</th>\n",
              "      <td>4</td>\n",
              "      <td>NaN</td>\n",
              "      <td>NaN</td>\n",
              "      <td>Forest fire near La Ronge Sask. Canada</td>\n",
              "      <td>1</td>\n",
              "    </tr>\n",
              "    <tr>\n",
              "      <th>2</th>\n",
              "      <td>5</td>\n",
              "      <td>NaN</td>\n",
              "      <td>NaN</td>\n",
              "      <td>All residents asked to 'shelter in place' are ...</td>\n",
              "      <td>1</td>\n",
              "    </tr>\n",
              "    <tr>\n",
              "      <th>3</th>\n",
              "      <td>6</td>\n",
              "      <td>NaN</td>\n",
              "      <td>NaN</td>\n",
              "      <td>13,000 people receive #wildfires evacuation or...</td>\n",
              "      <td>1</td>\n",
              "    </tr>\n",
              "    <tr>\n",
              "      <th>4</th>\n",
              "      <td>7</td>\n",
              "      <td>NaN</td>\n",
              "      <td>NaN</td>\n",
              "      <td>Just got sent this photo from Ruby #Alaska as ...</td>\n",
              "      <td>1</td>\n",
              "    </tr>\n",
              "  </tbody>\n",
              "</table>\n",
              "</div>\n",
              "    <div class=\"colab-df-buttons\">\n",
              "\n",
              "  <div class=\"colab-df-container\">\n",
              "    <button class=\"colab-df-convert\" onclick=\"convertToInteractive('df-92edcb92-32ed-4fab-aba6-90ff36ce2106')\"\n",
              "            title=\"Convert this dataframe to an interactive table.\"\n",
              "            style=\"display:none;\">\n",
              "\n",
              "  <svg xmlns=\"http://www.w3.org/2000/svg\" height=\"24px\" viewBox=\"0 -960 960 960\">\n",
              "    <path d=\"M120-120v-720h720v720H120Zm60-500h600v-160H180v160Zm220 220h160v-160H400v160Zm0 220h160v-160H400v160ZM180-400h160v-160H180v160Zm440 0h160v-160H620v160ZM180-180h160v-160H180v160Zm440 0h160v-160H620v160Z\"/>\n",
              "  </svg>\n",
              "    </button>\n",
              "\n",
              "  <style>\n",
              "    .colab-df-container {\n",
              "      display:flex;\n",
              "      gap: 12px;\n",
              "    }\n",
              "\n",
              "    .colab-df-convert {\n",
              "      background-color: #E8F0FE;\n",
              "      border: none;\n",
              "      border-radius: 50%;\n",
              "      cursor: pointer;\n",
              "      display: none;\n",
              "      fill: #1967D2;\n",
              "      height: 32px;\n",
              "      padding: 0 0 0 0;\n",
              "      width: 32px;\n",
              "    }\n",
              "\n",
              "    .colab-df-convert:hover {\n",
              "      background-color: #E2EBFA;\n",
              "      box-shadow: 0px 1px 2px rgba(60, 64, 67, 0.3), 0px 1px 3px 1px rgba(60, 64, 67, 0.15);\n",
              "      fill: #174EA6;\n",
              "    }\n",
              "\n",
              "    .colab-df-buttons div {\n",
              "      margin-bottom: 4px;\n",
              "    }\n",
              "\n",
              "    [theme=dark] .colab-df-convert {\n",
              "      background-color: #3B4455;\n",
              "      fill: #D2E3FC;\n",
              "    }\n",
              "\n",
              "    [theme=dark] .colab-df-convert:hover {\n",
              "      background-color: #434B5C;\n",
              "      box-shadow: 0px 1px 3px 1px rgba(0, 0, 0, 0.15);\n",
              "      filter: drop-shadow(0px 1px 2px rgba(0, 0, 0, 0.3));\n",
              "      fill: #FFFFFF;\n",
              "    }\n",
              "  </style>\n",
              "\n",
              "    <script>\n",
              "      const buttonEl =\n",
              "        document.querySelector('#df-92edcb92-32ed-4fab-aba6-90ff36ce2106 button.colab-df-convert');\n",
              "      buttonEl.style.display =\n",
              "        google.colab.kernel.accessAllowed ? 'block' : 'none';\n",
              "\n",
              "      async function convertToInteractive(key) {\n",
              "        const element = document.querySelector('#df-92edcb92-32ed-4fab-aba6-90ff36ce2106');\n",
              "        const dataTable =\n",
              "          await google.colab.kernel.invokeFunction('convertToInteractive',\n",
              "                                                    [key], {});\n",
              "        if (!dataTable) return;\n",
              "\n",
              "        const docLinkHtml = 'Like what you see? Visit the ' +\n",
              "          '<a target=\"_blank\" href=https://colab.research.google.com/notebooks/data_table.ipynb>data table notebook</a>'\n",
              "          + ' to learn more about interactive tables.';\n",
              "        element.innerHTML = '';\n",
              "        dataTable['output_type'] = 'display_data';\n",
              "        await google.colab.output.renderOutput(dataTable, element);\n",
              "        const docLink = document.createElement('div');\n",
              "        docLink.innerHTML = docLinkHtml;\n",
              "        element.appendChild(docLink);\n",
              "      }\n",
              "    </script>\n",
              "  </div>\n",
              "\n",
              "\n",
              "<div id=\"df-2112ea15-2cf1-42a3-bbf7-245d21595bd8\">\n",
              "  <button class=\"colab-df-quickchart\" onclick=\"quickchart('df-2112ea15-2cf1-42a3-bbf7-245d21595bd8')\"\n",
              "            title=\"Suggest charts\"\n",
              "            style=\"display:none;\">\n",
              "\n",
              "<svg xmlns=\"http://www.w3.org/2000/svg\" height=\"24px\"viewBox=\"0 0 24 24\"\n",
              "     width=\"24px\">\n",
              "    <g>\n",
              "        <path d=\"M19 3H5c-1.1 0-2 .9-2 2v14c0 1.1.9 2 2 2h14c1.1 0 2-.9 2-2V5c0-1.1-.9-2-2-2zM9 17H7v-7h2v7zm4 0h-2V7h2v10zm4 0h-2v-4h2v4z\"/>\n",
              "    </g>\n",
              "</svg>\n",
              "  </button>\n",
              "\n",
              "<style>\n",
              "  .colab-df-quickchart {\n",
              "      --bg-color: #E8F0FE;\n",
              "      --fill-color: #1967D2;\n",
              "      --hover-bg-color: #E2EBFA;\n",
              "      --hover-fill-color: #174EA6;\n",
              "      --disabled-fill-color: #AAA;\n",
              "      --disabled-bg-color: #DDD;\n",
              "  }\n",
              "\n",
              "  [theme=dark] .colab-df-quickchart {\n",
              "      --bg-color: #3B4455;\n",
              "      --fill-color: #D2E3FC;\n",
              "      --hover-bg-color: #434B5C;\n",
              "      --hover-fill-color: #FFFFFF;\n",
              "      --disabled-bg-color: #3B4455;\n",
              "      --disabled-fill-color: #666;\n",
              "  }\n",
              "\n",
              "  .colab-df-quickchart {\n",
              "    background-color: var(--bg-color);\n",
              "    border: none;\n",
              "    border-radius: 50%;\n",
              "    cursor: pointer;\n",
              "    display: none;\n",
              "    fill: var(--fill-color);\n",
              "    height: 32px;\n",
              "    padding: 0;\n",
              "    width: 32px;\n",
              "  }\n",
              "\n",
              "  .colab-df-quickchart:hover {\n",
              "    background-color: var(--hover-bg-color);\n",
              "    box-shadow: 0 1px 2px rgba(60, 64, 67, 0.3), 0 1px 3px 1px rgba(60, 64, 67, 0.15);\n",
              "    fill: var(--button-hover-fill-color);\n",
              "  }\n",
              "\n",
              "  .colab-df-quickchart-complete:disabled,\n",
              "  .colab-df-quickchart-complete:disabled:hover {\n",
              "    background-color: var(--disabled-bg-color);\n",
              "    fill: var(--disabled-fill-color);\n",
              "    box-shadow: none;\n",
              "  }\n",
              "\n",
              "  .colab-df-spinner {\n",
              "    border: 2px solid var(--fill-color);\n",
              "    border-color: transparent;\n",
              "    border-bottom-color: var(--fill-color);\n",
              "    animation:\n",
              "      spin 1s steps(1) infinite;\n",
              "  }\n",
              "\n",
              "  @keyframes spin {\n",
              "    0% {\n",
              "      border-color: transparent;\n",
              "      border-bottom-color: var(--fill-color);\n",
              "      border-left-color: var(--fill-color);\n",
              "    }\n",
              "    20% {\n",
              "      border-color: transparent;\n",
              "      border-left-color: var(--fill-color);\n",
              "      border-top-color: var(--fill-color);\n",
              "    }\n",
              "    30% {\n",
              "      border-color: transparent;\n",
              "      border-left-color: var(--fill-color);\n",
              "      border-top-color: var(--fill-color);\n",
              "      border-right-color: var(--fill-color);\n",
              "    }\n",
              "    40% {\n",
              "      border-color: transparent;\n",
              "      border-right-color: var(--fill-color);\n",
              "      border-top-color: var(--fill-color);\n",
              "    }\n",
              "    60% {\n",
              "      border-color: transparent;\n",
              "      border-right-color: var(--fill-color);\n",
              "    }\n",
              "    80% {\n",
              "      border-color: transparent;\n",
              "      border-right-color: var(--fill-color);\n",
              "      border-bottom-color: var(--fill-color);\n",
              "    }\n",
              "    90% {\n",
              "      border-color: transparent;\n",
              "      border-bottom-color: var(--fill-color);\n",
              "    }\n",
              "  }\n",
              "</style>\n",
              "\n",
              "  <script>\n",
              "    async function quickchart(key) {\n",
              "      const quickchartButtonEl =\n",
              "        document.querySelector('#' + key + ' button');\n",
              "      quickchartButtonEl.disabled = true;  // To prevent multiple clicks.\n",
              "      quickchartButtonEl.classList.add('colab-df-spinner');\n",
              "      try {\n",
              "        const charts = await google.colab.kernel.invokeFunction(\n",
              "            'suggestCharts', [key], {});\n",
              "      } catch (error) {\n",
              "        console.error('Error during call to suggestCharts:', error);\n",
              "      }\n",
              "      quickchartButtonEl.classList.remove('colab-df-spinner');\n",
              "      quickchartButtonEl.classList.add('colab-df-quickchart-complete');\n",
              "    }\n",
              "    (() => {\n",
              "      let quickchartButtonEl =\n",
              "        document.querySelector('#df-2112ea15-2cf1-42a3-bbf7-245d21595bd8 button');\n",
              "      quickchartButtonEl.style.display =\n",
              "        google.colab.kernel.accessAllowed ? 'block' : 'none';\n",
              "    })();\n",
              "  </script>\n",
              "</div>\n",
              "\n",
              "    </div>\n",
              "  </div>\n"
            ],
            "application/vnd.google.colaboratory.intrinsic+json": {
              "type": "dataframe",
              "variable_name": "train_data",
              "summary": "{\n  \"name\": \"train_data\",\n  \"rows\": 7613,\n  \"fields\": [\n    {\n      \"column\": \"id\",\n      \"properties\": {\n        \"dtype\": \"number\",\n        \"std\": 3137,\n        \"min\": 1,\n        \"max\": 10873,\n        \"num_unique_values\": 7613,\n        \"samples\": [\n          3796,\n          3185,\n          7769\n        ],\n        \"semantic_type\": \"\",\n        \"description\": \"\"\n      }\n    },\n    {\n      \"column\": \"keyword\",\n      \"properties\": {\n        \"dtype\": \"category\",\n        \"num_unique_values\": 221,\n        \"samples\": [\n          \"injury\",\n          \"nuclear%20reactor\",\n          \"engulfed\"\n        ],\n        \"semantic_type\": \"\",\n        \"description\": \"\"\n      }\n    },\n    {\n      \"column\": \"location\",\n      \"properties\": {\n        \"dtype\": \"category\",\n        \"num_unique_values\": 3341,\n        \"samples\": [\n          \"Oklahoma\",\n          \"Starling City\",\n          \"Trinidad and Tobago\"\n        ],\n        \"semantic_type\": \"\",\n        \"description\": \"\"\n      }\n    },\n    {\n      \"column\": \"text\",\n      \"properties\": {\n        \"dtype\": \"string\",\n        \"num_unique_values\": 7503,\n        \"samples\": [\n          \"Three Homes Demolished in Unrecognized Arab Village - International Middle East Media Center http://t.co/ik8m4Yi9T4\",\n          \"Reid Lake fire prompts campground evacuation order http://t.co/jBODKM6rBU\",\n          \"FAAN orders evacuation of abandoned aircraft at MMA http://t.co/dEvYbnVXGQ via @todayng\"\n        ],\n        \"semantic_type\": \"\",\n        \"description\": \"\"\n      }\n    },\n    {\n      \"column\": \"target\",\n      \"properties\": {\n        \"dtype\": \"number\",\n        \"std\": 0,\n        \"min\": 0,\n        \"max\": 1,\n        \"num_unique_values\": 2,\n        \"samples\": [\n          0,\n          1\n        ],\n        \"semantic_type\": \"\",\n        \"description\": \"\"\n      }\n    }\n  ]\n}"
            }
          },
          "metadata": {},
          "execution_count": 118
        }
      ],
      "source": [
        "train_data.head()"
      ]
    },
    {
      "cell_type": "code",
      "execution_count": null,
      "metadata": {
        "id": "5LtFGITJhvnr",
        "colab": {
          "base_uri": "https://localhost:8080/",
          "height": 204
        },
        "outputId": "83f003c5-2a3a-46ad-cb65-14316f6daf76"
      },
      "outputs": [
        {
          "output_type": "execute_result",
          "data": {
            "text/plain": [
              "   id keyword location                                               text\n",
              "0   0     NaN      NaN                 Just happened a terrible car crash\n",
              "1   2     NaN      NaN  Heard about #earthquake is different cities, s...\n",
              "2   3     NaN      NaN  there is a forest fire at spot pond, geese are...\n",
              "3   9     NaN      NaN           Apocalypse lighting. #Spokane #wildfires\n",
              "4  11     NaN      NaN      Typhoon Soudelor kills 28 in China and Taiwan"
            ],
            "text/html": [
              "\n",
              "  <div id=\"df-18419659-35a9-42ca-886d-5a8c756d747f\" class=\"colab-df-container\">\n",
              "    <div>\n",
              "<style scoped>\n",
              "    .dataframe tbody tr th:only-of-type {\n",
              "        vertical-align: middle;\n",
              "    }\n",
              "\n",
              "    .dataframe tbody tr th {\n",
              "        vertical-align: top;\n",
              "    }\n",
              "\n",
              "    .dataframe thead th {\n",
              "        text-align: right;\n",
              "    }\n",
              "</style>\n",
              "<table border=\"1\" class=\"dataframe\">\n",
              "  <thead>\n",
              "    <tr style=\"text-align: right;\">\n",
              "      <th></th>\n",
              "      <th>id</th>\n",
              "      <th>keyword</th>\n",
              "      <th>location</th>\n",
              "      <th>text</th>\n",
              "    </tr>\n",
              "  </thead>\n",
              "  <tbody>\n",
              "    <tr>\n",
              "      <th>0</th>\n",
              "      <td>0</td>\n",
              "      <td>NaN</td>\n",
              "      <td>NaN</td>\n",
              "      <td>Just happened a terrible car crash</td>\n",
              "    </tr>\n",
              "    <tr>\n",
              "      <th>1</th>\n",
              "      <td>2</td>\n",
              "      <td>NaN</td>\n",
              "      <td>NaN</td>\n",
              "      <td>Heard about #earthquake is different cities, s...</td>\n",
              "    </tr>\n",
              "    <tr>\n",
              "      <th>2</th>\n",
              "      <td>3</td>\n",
              "      <td>NaN</td>\n",
              "      <td>NaN</td>\n",
              "      <td>there is a forest fire at spot pond, geese are...</td>\n",
              "    </tr>\n",
              "    <tr>\n",
              "      <th>3</th>\n",
              "      <td>9</td>\n",
              "      <td>NaN</td>\n",
              "      <td>NaN</td>\n",
              "      <td>Apocalypse lighting. #Spokane #wildfires</td>\n",
              "    </tr>\n",
              "    <tr>\n",
              "      <th>4</th>\n",
              "      <td>11</td>\n",
              "      <td>NaN</td>\n",
              "      <td>NaN</td>\n",
              "      <td>Typhoon Soudelor kills 28 in China and Taiwan</td>\n",
              "    </tr>\n",
              "  </tbody>\n",
              "</table>\n",
              "</div>\n",
              "    <div class=\"colab-df-buttons\">\n",
              "\n",
              "  <div class=\"colab-df-container\">\n",
              "    <button class=\"colab-df-convert\" onclick=\"convertToInteractive('df-18419659-35a9-42ca-886d-5a8c756d747f')\"\n",
              "            title=\"Convert this dataframe to an interactive table.\"\n",
              "            style=\"display:none;\">\n",
              "\n",
              "  <svg xmlns=\"http://www.w3.org/2000/svg\" height=\"24px\" viewBox=\"0 -960 960 960\">\n",
              "    <path d=\"M120-120v-720h720v720H120Zm60-500h600v-160H180v160Zm220 220h160v-160H400v160Zm0 220h160v-160H400v160ZM180-400h160v-160H180v160Zm440 0h160v-160H620v160ZM180-180h160v-160H180v160Zm440 0h160v-160H620v160Z\"/>\n",
              "  </svg>\n",
              "    </button>\n",
              "\n",
              "  <style>\n",
              "    .colab-df-container {\n",
              "      display:flex;\n",
              "      gap: 12px;\n",
              "    }\n",
              "\n",
              "    .colab-df-convert {\n",
              "      background-color: #E8F0FE;\n",
              "      border: none;\n",
              "      border-radius: 50%;\n",
              "      cursor: pointer;\n",
              "      display: none;\n",
              "      fill: #1967D2;\n",
              "      height: 32px;\n",
              "      padding: 0 0 0 0;\n",
              "      width: 32px;\n",
              "    }\n",
              "\n",
              "    .colab-df-convert:hover {\n",
              "      background-color: #E2EBFA;\n",
              "      box-shadow: 0px 1px 2px rgba(60, 64, 67, 0.3), 0px 1px 3px 1px rgba(60, 64, 67, 0.15);\n",
              "      fill: #174EA6;\n",
              "    }\n",
              "\n",
              "    .colab-df-buttons div {\n",
              "      margin-bottom: 4px;\n",
              "    }\n",
              "\n",
              "    [theme=dark] .colab-df-convert {\n",
              "      background-color: #3B4455;\n",
              "      fill: #D2E3FC;\n",
              "    }\n",
              "\n",
              "    [theme=dark] .colab-df-convert:hover {\n",
              "      background-color: #434B5C;\n",
              "      box-shadow: 0px 1px 3px 1px rgba(0, 0, 0, 0.15);\n",
              "      filter: drop-shadow(0px 1px 2px rgba(0, 0, 0, 0.3));\n",
              "      fill: #FFFFFF;\n",
              "    }\n",
              "  </style>\n",
              "\n",
              "    <script>\n",
              "      const buttonEl =\n",
              "        document.querySelector('#df-18419659-35a9-42ca-886d-5a8c756d747f button.colab-df-convert');\n",
              "      buttonEl.style.display =\n",
              "        google.colab.kernel.accessAllowed ? 'block' : 'none';\n",
              "\n",
              "      async function convertToInteractive(key) {\n",
              "        const element = document.querySelector('#df-18419659-35a9-42ca-886d-5a8c756d747f');\n",
              "        const dataTable =\n",
              "          await google.colab.kernel.invokeFunction('convertToInteractive',\n",
              "                                                    [key], {});\n",
              "        if (!dataTable) return;\n",
              "\n",
              "        const docLinkHtml = 'Like what you see? Visit the ' +\n",
              "          '<a target=\"_blank\" href=https://colab.research.google.com/notebooks/data_table.ipynb>data table notebook</a>'\n",
              "          + ' to learn more about interactive tables.';\n",
              "        element.innerHTML = '';\n",
              "        dataTable['output_type'] = 'display_data';\n",
              "        await google.colab.output.renderOutput(dataTable, element);\n",
              "        const docLink = document.createElement('div');\n",
              "        docLink.innerHTML = docLinkHtml;\n",
              "        element.appendChild(docLink);\n",
              "      }\n",
              "    </script>\n",
              "  </div>\n",
              "\n",
              "\n",
              "<div id=\"df-e7872ced-b110-482b-b859-3dc2e32e41b4\">\n",
              "  <button class=\"colab-df-quickchart\" onclick=\"quickchart('df-e7872ced-b110-482b-b859-3dc2e32e41b4')\"\n",
              "            title=\"Suggest charts\"\n",
              "            style=\"display:none;\">\n",
              "\n",
              "<svg xmlns=\"http://www.w3.org/2000/svg\" height=\"24px\"viewBox=\"0 0 24 24\"\n",
              "     width=\"24px\">\n",
              "    <g>\n",
              "        <path d=\"M19 3H5c-1.1 0-2 .9-2 2v14c0 1.1.9 2 2 2h14c1.1 0 2-.9 2-2V5c0-1.1-.9-2-2-2zM9 17H7v-7h2v7zm4 0h-2V7h2v10zm4 0h-2v-4h2v4z\"/>\n",
              "    </g>\n",
              "</svg>\n",
              "  </button>\n",
              "\n",
              "<style>\n",
              "  .colab-df-quickchart {\n",
              "      --bg-color: #E8F0FE;\n",
              "      --fill-color: #1967D2;\n",
              "      --hover-bg-color: #E2EBFA;\n",
              "      --hover-fill-color: #174EA6;\n",
              "      --disabled-fill-color: #AAA;\n",
              "      --disabled-bg-color: #DDD;\n",
              "  }\n",
              "\n",
              "  [theme=dark] .colab-df-quickchart {\n",
              "      --bg-color: #3B4455;\n",
              "      --fill-color: #D2E3FC;\n",
              "      --hover-bg-color: #434B5C;\n",
              "      --hover-fill-color: #FFFFFF;\n",
              "      --disabled-bg-color: #3B4455;\n",
              "      --disabled-fill-color: #666;\n",
              "  }\n",
              "\n",
              "  .colab-df-quickchart {\n",
              "    background-color: var(--bg-color);\n",
              "    border: none;\n",
              "    border-radius: 50%;\n",
              "    cursor: pointer;\n",
              "    display: none;\n",
              "    fill: var(--fill-color);\n",
              "    height: 32px;\n",
              "    padding: 0;\n",
              "    width: 32px;\n",
              "  }\n",
              "\n",
              "  .colab-df-quickchart:hover {\n",
              "    background-color: var(--hover-bg-color);\n",
              "    box-shadow: 0 1px 2px rgba(60, 64, 67, 0.3), 0 1px 3px 1px rgba(60, 64, 67, 0.15);\n",
              "    fill: var(--button-hover-fill-color);\n",
              "  }\n",
              "\n",
              "  .colab-df-quickchart-complete:disabled,\n",
              "  .colab-df-quickchart-complete:disabled:hover {\n",
              "    background-color: var(--disabled-bg-color);\n",
              "    fill: var(--disabled-fill-color);\n",
              "    box-shadow: none;\n",
              "  }\n",
              "\n",
              "  .colab-df-spinner {\n",
              "    border: 2px solid var(--fill-color);\n",
              "    border-color: transparent;\n",
              "    border-bottom-color: var(--fill-color);\n",
              "    animation:\n",
              "      spin 1s steps(1) infinite;\n",
              "  }\n",
              "\n",
              "  @keyframes spin {\n",
              "    0% {\n",
              "      border-color: transparent;\n",
              "      border-bottom-color: var(--fill-color);\n",
              "      border-left-color: var(--fill-color);\n",
              "    }\n",
              "    20% {\n",
              "      border-color: transparent;\n",
              "      border-left-color: var(--fill-color);\n",
              "      border-top-color: var(--fill-color);\n",
              "    }\n",
              "    30% {\n",
              "      border-color: transparent;\n",
              "      border-left-color: var(--fill-color);\n",
              "      border-top-color: var(--fill-color);\n",
              "      border-right-color: var(--fill-color);\n",
              "    }\n",
              "    40% {\n",
              "      border-color: transparent;\n",
              "      border-right-color: var(--fill-color);\n",
              "      border-top-color: var(--fill-color);\n",
              "    }\n",
              "    60% {\n",
              "      border-color: transparent;\n",
              "      border-right-color: var(--fill-color);\n",
              "    }\n",
              "    80% {\n",
              "      border-color: transparent;\n",
              "      border-right-color: var(--fill-color);\n",
              "      border-bottom-color: var(--fill-color);\n",
              "    }\n",
              "    90% {\n",
              "      border-color: transparent;\n",
              "      border-bottom-color: var(--fill-color);\n",
              "    }\n",
              "  }\n",
              "</style>\n",
              "\n",
              "  <script>\n",
              "    async function quickchart(key) {\n",
              "      const quickchartButtonEl =\n",
              "        document.querySelector('#' + key + ' button');\n",
              "      quickchartButtonEl.disabled = true;  // To prevent multiple clicks.\n",
              "      quickchartButtonEl.classList.add('colab-df-spinner');\n",
              "      try {\n",
              "        const charts = await google.colab.kernel.invokeFunction(\n",
              "            'suggestCharts', [key], {});\n",
              "      } catch (error) {\n",
              "        console.error('Error during call to suggestCharts:', error);\n",
              "      }\n",
              "      quickchartButtonEl.classList.remove('colab-df-spinner');\n",
              "      quickchartButtonEl.classList.add('colab-df-quickchart-complete');\n",
              "    }\n",
              "    (() => {\n",
              "      let quickchartButtonEl =\n",
              "        document.querySelector('#df-e7872ced-b110-482b-b859-3dc2e32e41b4 button');\n",
              "      quickchartButtonEl.style.display =\n",
              "        google.colab.kernel.accessAllowed ? 'block' : 'none';\n",
              "    })();\n",
              "  </script>\n",
              "</div>\n",
              "\n",
              "    </div>\n",
              "  </div>\n"
            ],
            "application/vnd.google.colaboratory.intrinsic+json": {
              "type": "dataframe",
              "variable_name": "test_data",
              "summary": "{\n  \"name\": \"test_data\",\n  \"rows\": 3263,\n  \"fields\": [\n    {\n      \"column\": \"id\",\n      \"properties\": {\n        \"dtype\": \"number\",\n        \"std\": 3146,\n        \"min\": 0,\n        \"max\": 10875,\n        \"num_unique_values\": 3263,\n        \"samples\": [\n          8051,\n          425,\n          1330\n        ],\n        \"semantic_type\": \"\",\n        \"description\": \"\"\n      }\n    },\n    {\n      \"column\": \"keyword\",\n      \"properties\": {\n        \"dtype\": \"category\",\n        \"num_unique_values\": 221,\n        \"samples\": [\n          \"injury\",\n          \"nuclear%20reactor\",\n          \"engulfed\"\n        ],\n        \"semantic_type\": \"\",\n        \"description\": \"\"\n      }\n    },\n    {\n      \"column\": \"location\",\n      \"properties\": {\n        \"dtype\": \"category\",\n        \"num_unique_values\": 1602,\n        \"samples\": [\n          \"UAE\",\n          \"Tokio / Tokyo\",\n          \"Texas\"\n        ],\n        \"semantic_type\": \"\",\n        \"description\": \"\"\n      }\n    },\n    {\n      \"column\": \"text\",\n      \"properties\": {\n        \"dtype\": \"string\",\n        \"num_unique_values\": 3243,\n        \"samples\": [\n          \"Latest: USA: Huge sinkhole swallows up Brooklyn intersection http://t.co/vspKHg3nZy\",\n          \"I liked a @YouTube video http://t.co/a5YTAw9Vih S.O.S. Rona Guide - The Red Whirlwind\",\n          \"HitchBot travels Europe and greeted with open arms. Gets destroyed after two weeks in america. There's a lesson to be learned here.\"\n        ],\n        \"semantic_type\": \"\",\n        \"description\": \"\"\n      }\n    }\n  ]\n}"
            }
          },
          "metadata": {},
          "execution_count": 119
        }
      ],
      "source": [
        "test_data.head()"
      ]
    },
    {
      "cell_type": "markdown",
      "metadata": {
        "id": "X7mDnnsXh6Zt"
      },
      "source": [
        "### Data Exploration"
      ]
    },
    {
      "cell_type": "code",
      "execution_count": null,
      "metadata": {
        "id": "WKsjWnoyh5Jg",
        "colab": {
          "base_uri": "https://localhost:8080/"
        },
        "outputId": "5cb09be7-c0f9-4dc2-9d4b-234e242efc88"
      },
      "outputs": [
        {
          "output_type": "stream",
          "name": "stdout",
          "text": [
            "Train Length Stat\n",
            "count    7613.000000\n",
            "mean      101.037436\n",
            "std        33.781325\n",
            "min         7.000000\n",
            "25%        78.000000\n",
            "50%       107.000000\n",
            "75%       133.000000\n",
            "max       157.000000\n",
            "Name: length, dtype: float64\n",
            "\n",
            "Test Length Stat\n",
            "count    3263.000000\n",
            "mean      102.108183\n",
            "std        33.972158\n",
            "min         5.000000\n",
            "25%        78.000000\n",
            "50%       109.000000\n",
            "75%       134.000000\n",
            "max       151.000000\n",
            "Name: length, dtype: float64\n"
          ]
        }
      ],
      "source": [
        "train_data[\"length\"] = train_data[\"text\"].apply(lambda x : len(x))\n",
        "test_data[\"length\"] = test_data[\"text\"].apply(lambda x : len(x))\n",
        "\n",
        "print(\"Train Length Stat\")\n",
        "print(train_data[\"length\"].describe())\n",
        "print()\n",
        "\n",
        "print(\"Test Length Stat\")\n",
        "print(test_data[\"length\"].describe())"
      ]
    },
    {
      "cell_type": "markdown",
      "metadata": {
        "id": "ymD2mq1Og84E"
      },
      "source": [
        "### Preprocessing\n",
        "Handle missing values, remove special characters, encode categorical variables, use text vectorization techniques"
      ]
    },
    {
      "cell_type": "code",
      "execution_count": null,
      "metadata": {
        "id": "-I6tOS7bmTWy",
        "colab": {
          "base_uri": "https://localhost:8080/"
        },
        "outputId": "f313c552-e91b-4b97-bdb8-1504ef713861"
      },
      "outputs": [
        {
          "output_type": "stream",
          "name": "stdout",
          "text": [
            "Requirement already satisfied: nltk in /usr/local/lib/python3.10/dist-packages (3.8.1)\n",
            "Requirement already satisfied: pandas in /usr/local/lib/python3.10/dist-packages (2.0.3)\n",
            "Requirement already satisfied: scikit-learn in /usr/local/lib/python3.10/dist-packages (1.2.2)\n",
            "Requirement already satisfied: click in /usr/local/lib/python3.10/dist-packages (from nltk) (8.1.7)\n",
            "Requirement already satisfied: joblib in /usr/local/lib/python3.10/dist-packages (from nltk) (1.4.0)\n",
            "Requirement already satisfied: regex>=2021.8.3 in /usr/local/lib/python3.10/dist-packages (from nltk) (2023.12.25)\n",
            "Requirement already satisfied: tqdm in /usr/local/lib/python3.10/dist-packages (from nltk) (4.66.2)\n",
            "Requirement already satisfied: python-dateutil>=2.8.2 in /usr/local/lib/python3.10/dist-packages (from pandas) (2.8.2)\n",
            "Requirement already satisfied: pytz>=2020.1 in /usr/local/lib/python3.10/dist-packages (from pandas) (2023.4)\n",
            "Requirement already satisfied: tzdata>=2022.1 in /usr/local/lib/python3.10/dist-packages (from pandas) (2024.1)\n",
            "Requirement already satisfied: numpy>=1.21.0 in /usr/local/lib/python3.10/dist-packages (from pandas) (1.25.2)\n",
            "Requirement already satisfied: scipy>=1.3.2 in /usr/local/lib/python3.10/dist-packages (from scikit-learn) (1.11.4)\n",
            "Requirement already satisfied: threadpoolctl>=2.0.0 in /usr/local/lib/python3.10/dist-packages (from scikit-learn) (3.4.0)\n",
            "Requirement already satisfied: six>=1.5 in /usr/local/lib/python3.10/dist-packages (from python-dateutil>=2.8.2->pandas) (1.16.0)\n"
          ]
        }
      ],
      "source": [
        "!pip install nltk pandas scikit-learn"
      ]
    },
    {
      "cell_type": "code",
      "execution_count": null,
      "metadata": {
        "id": "ikhEEhXxm2Gs",
        "colab": {
          "base_uri": "https://localhost:8080/"
        },
        "outputId": "b6f33492-7b0d-4ea9-926b-097dfd187f99"
      },
      "outputs": [
        {
          "output_type": "stream",
          "name": "stderr",
          "text": [
            "[nltk_data] Downloading package punkt to /root/nltk_data...\n",
            "[nltk_data]   Package punkt is already up-to-date!\n",
            "[nltk_data] Downloading package stopwords to /root/nltk_data...\n",
            "[nltk_data]   Package stopwords is already up-to-date!\n"
          ]
        }
      ],
      "source": [
        "import pandas as pd\n",
        "import re\n",
        "import nltk\n",
        "from nltk.corpus import stopwords\n",
        "from sklearn.feature_extraction.text import TfidfVectorizer\n",
        "\n",
        "# Download NLTK resources\n",
        "nltk.download('punkt')\n",
        "nltk.download('stopwords')\n",
        "\n",
        "# Load the datasets\n",
        "train_data = pd.read_csv('train.csv')\n",
        "test_data = pd.read_csv('test.csv')\n",
        "\n",
        "# Preprocessing function\n",
        "def preprocess_text(text):\n",
        "    # Convert text to lowercase\n",
        "    text = text.lower()\n",
        "    # Remove punctuation, URLs, mentions, tags and numbers\n",
        "    text = re.sub(r'http\\S+', '', text) # Remove URLs\n",
        "    text = re.sub(r'@\\w+', '', text) # Remove mentions\n",
        "    text = re.sub(r'#', '', text) # Remove hashtags\n",
        "    text = re.sub(r'\\d+', '', text) # Remove numbers\n",
        "    text = re.sub(r'[^\\w\\s]', '', text) # Remove punctuation\n",
        "    # Tokenize into words\n",
        "    words = nltk.word_tokenize(text)\n",
        "    # Remove stopwords\n",
        "    words = [word for word in words if word not in stopwords.words('english')]\n",
        "    # Join words back into one string separated by space\n",
        "    text = ' '.join(words)\n",
        "    return text\n",
        "\n",
        "# Apply preprocessing to the text column\n",
        "train_data['text_cleaned'] = train_data['text'].apply(preprocess_text)\n",
        "test_data['text_cleaned'] = test_data['text'].apply(preprocess_text)\n",
        "\n",
        "# Initialize TF-IDF Vectorizer\n",
        "vectorizer = TfidfVectorizer()\n",
        "\n",
        "# Fit and transform the vectorizer on the training data and only transform the test data\n",
        "X_train_tfidf = vectorizer.fit_transform(train_data['text_cleaned'])\n",
        "X_test_tfidf = vectorizer.transform(test_data['text_cleaned'])\n",
        "\n",
        "# Now X_train_tfidf and X_test_tfidf are the preprocessed, vectorized representations of the training and test sets\n"
      ]
    },
    {
      "cell_type": "markdown",
      "metadata": {
        "id": "ZM7SvKnYnlKx"
      },
      "source": [
        "### Feature Engineering\n",
        "\n",
        "Features we'll create:\n",
        "\n",
        "* Word Count: The number of words in each tweet.\n",
        "* Unique Word Count: The number of unique words in each tweet.\n",
        "* Stop Word Count: The number of stop words in each tweet.\n",
        "* URL Count: The number of URLs in each tweet.\n",
        "* Hashtag Count: The number of hashtags in each tweet.\n",
        "* Mention Count: The number of mentions in each tweet.\n",
        "* Character Count: The number of characters in each tweet.\n",
        "* Punctuation Count: The number of punctuations in each tweet."
      ]
    },
    {
      "cell_type": "code",
      "execution_count": null,
      "metadata": {
        "id": "sFARStQvn6nH",
        "colab": {
          "base_uri": "https://localhost:8080/"
        },
        "outputId": "662459ec-aaaf-4849-8559-b1f1769b9bfa"
      },
      "outputs": [
        {
          "output_type": "stream",
          "name": "stdout",
          "text": [
            "   id keyword location                                               text  \\\n",
            "0   1     NaN      NaN  Our Deeds are the Reason of this #earthquake M...   \n",
            "1   4     NaN      NaN             Forest fire near La Ronge Sask. Canada   \n",
            "2   5     NaN      NaN  All residents asked to 'shelter in place' are ...   \n",
            "3   6     NaN      NaN  13,000 people receive #wildfires evacuation or...   \n",
            "4   7     NaN      NaN  Just got sent this photo from Ruby #Alaska as ...   \n",
            "\n",
            "   target  word_count  unique_word_count  stop_word_count  url_count  \\\n",
            "0       1          13                 13                6          0   \n",
            "1       1           7                  7                0          0   \n",
            "2       1          22                 20               11          0   \n",
            "3       1           8                  8                1          0   \n",
            "4       1          16                 15                7          0   \n",
            "\n",
            "   hashtag_count  mention_count  char_count  punctuation_count  \n",
            "0              1              0          69                  1  \n",
            "1              0              0          38                  1  \n",
            "2              0              0         133                  3  \n",
            "3              1              0          65                  2  \n",
            "4              2              0          88                  2  \n"
          ]
        }
      ],
      "source": [
        "import pandas as pd\n",
        "import re\n",
        "import nltk\n",
        "from nltk.corpus import stopwords\n",
        "\n",
        "# Load the datasets\n",
        "train_data = pd.read_csv('train.csv')\n",
        "test_data = pd.read_csv('test.csv')\n",
        "\n",
        "# A helper function to count occurrences based on a regex pattern\n",
        "def count_regex(pattern, tweet):\n",
        "    return len(re.findall(pattern, tweet))\n",
        "\n",
        "# Feature engineering functions\n",
        "def create_features(df):\n",
        "    # Word count\n",
        "    df['word_count'] = df['text'].apply(lambda x: len(str(x).split()))\n",
        "\n",
        "    # Unique word count\n",
        "    df['unique_word_count'] = df['text'].apply(lambda x: len(set(str(x).split())))\n",
        "\n",
        "    # Stop word count\n",
        "    df['stop_word_count'] = df['text'].apply(lambda x: len([word for word in str(x).lower().split() if word in stopwords.words('english')]))\n",
        "\n",
        "    # URL count\n",
        "    df['url_count'] = df['text'].apply(lambda x: count_regex(r\"http\\S+\", x))\n",
        "\n",
        "    # Hashtag count\n",
        "    df['hashtag_count'] = df['text'].apply(lambda x: count_regex(r\"#(\\w+)\", x))\n",
        "\n",
        "    # Mention count\n",
        "    df['mention_count'] = df['text'].apply(lambda x: count_regex(r\"@(\\w+)\", x))\n",
        "\n",
        "    # Character count\n",
        "    df['char_count'] = df['text'].apply(lambda x: len(str(x)))\n",
        "\n",
        "    # Punctuation count\n",
        "    df['punctuation_count'] = df['text'].apply(lambda x: count_regex(r\"[^\\w\\s]\", x))\n",
        "\n",
        "    return df\n",
        "\n",
        "# Apply feature engineering to both the training and testing dataset\n",
        "train_data = create_features(train_data)\n",
        "test_data = create_features(test_data)\n",
        "\n",
        "# Display the first few rows of the training data to confirm feature creation\n",
        "print(train_data.head())\n"
      ]
    },
    {
      "cell_type": "markdown",
      "metadata": {
        "id": "RdKpSlHIVjGf"
      },
      "source": [
        "### Split Training Data\n",
        "- 80% Training\n",
        "- 20% Validation\n",
        "\n",
        "The **TF-IDF (Term Frequency-Inverse Document Frequency) Vectorizer** is a common technique used to convert text data into a numerical format suitable for machine learning models. It reflects how important a word is to a document in a collection of documents (corpus)."
      ]
    },
    {
      "cell_type": "code",
      "execution_count": null,
      "metadata": {
        "id": "kjQS1anviVFo"
      },
      "outputs": [],
      "source": [
        "BATCH_SIZE = 32\n",
        "NUM_TRAINING_EXAMPLES = train_data.shape[0]\n",
        "TRAIN_SPLIT = 0.8\n",
        "VAL_SPLIT = 0.2\n",
        "STEPS_PER_EPOCH = int(NUM_TRAINING_EXAMPLES)*TRAIN_SPLIT // BATCH_SIZE\n",
        "\n",
        "EPOCHS = 2\n",
        "AUTO = tf.data.experimental.AUTOTUNE"
      ]
    },
    {
      "cell_type": "code",
      "execution_count": null,
      "metadata": {
        "id": "Fu-QQUJGiyXw"
      },
      "outputs": [],
      "source": [
        "X = train_data[\"text\"]\n",
        "y = train_data[\"target\"]\n",
        "\n",
        "X_train, X_val, y_train, y_val = train_test_split(X, y, test_size=VAL_SPLIT, random_state=42)\n",
        "\n",
        "X_test = test_data[\"text\"]"
      ]
    },
    {
      "cell_type": "markdown",
      "metadata": {
        "id": "V94iXoRlZ9lC"
      },
      "source": [
        "* **X_train** contains the training subset\n",
        "* **X_val** contains the validation subset\n",
        "* **y_train** contains the targets corresponding to X_train\n",
        "* **y_val** contains the targets corresponding to X_val\n",
        "\n",
        "By comparing the predictions of the model on **X_val** to **y_val**, we can assess how well the model is likely to perform on data it hasn't seen before\n"
      ]
    },
    {
      "cell_type": "code",
      "execution_count": null,
      "metadata": {
        "id": "FTLCXQMFcUzu",
        "colab": {
          "base_uri": "https://localhost:8080/"
        },
        "outputId": "14c8b6cf-5814-42b4-a55e-ba522cf0c820"
      },
      "outputs": [
        {
          "output_type": "stream",
          "name": "stdout",
          "text": [
            "(samples, features) \n",
            "\n",
            "Training set size: (6090,)\n",
            "Validation set size: (1523,)\n",
            "Test set size: (3263, 12)\n"
          ]
        }
      ],
      "source": [
        "# Check the size of each set\n",
        "print(\"(samples, features)\", \"\\n\")\n",
        "print(\"Training set size:\", X_train.shape)\n",
        "print(\"Validation set size:\", X_val.shape)\n",
        "print(\"Test set size:\", test_data.shape)"
      ]
    },
    {
      "cell_type": "markdown",
      "metadata": {
        "id": "KVUmkJI6cMhB"
      },
      "source": [
        "# Exploratory Data Analysis"
      ]
    },
    {
      "cell_type": "code",
      "execution_count": null,
      "metadata": {
        "id": "DI_wIPRjcRJ3",
        "colab": {
          "base_uri": "https://localhost:8080/"
        },
        "outputId": "b04268f4-543a-437d-d057-ad07c567697c"
      },
      "outputs": [
        {
          "output_type": "stream",
          "name": "stdout",
          "text": [
            "<class 'pandas.core.frame.DataFrame'>\n",
            "RangeIndex: 7613 entries, 0 to 7612\n",
            "Data columns (total 13 columns):\n",
            " #   Column             Non-Null Count  Dtype \n",
            "---  ------             --------------  ----- \n",
            " 0   id                 7613 non-null   int64 \n",
            " 1   keyword            7552 non-null   object\n",
            " 2   location           5080 non-null   object\n",
            " 3   text               7613 non-null   object\n",
            " 4   target             7613 non-null   int64 \n",
            " 5   word_count         7613 non-null   int64 \n",
            " 6   unique_word_count  7613 non-null   int64 \n",
            " 7   stop_word_count    7613 non-null   int64 \n",
            " 8   url_count          7613 non-null   int64 \n",
            " 9   hashtag_count      7613 non-null   int64 \n",
            " 10  mention_count      7613 non-null   int64 \n",
            " 11  char_count         7613 non-null   int64 \n",
            " 12  punctuation_count  7613 non-null   int64 \n",
            "dtypes: int64(10), object(3)\n",
            "memory usage: 773.3+ KB\n"
          ]
        }
      ],
      "source": [
        "# Display basic info about the dataset\n",
        "train_data.info()"
      ]
    },
    {
      "cell_type": "code",
      "execution_count": null,
      "metadata": {
        "id": "jh6i1YjqeqYK",
        "colab": {
          "base_uri": "https://localhost:8080/"
        },
        "outputId": "9e8840bf-8d52-4b2f-be43-67fe6ca12ceb"
      },
      "outputs": [
        {
          "output_type": "stream",
          "name": "stdout",
          "text": [
            "                 id      target   word_count  unique_word_count  \\\n",
            "count   7613.000000  7613.00000  7613.000000        7613.000000   \n",
            "mean    5441.934848     0.42966    14.903586          14.340733   \n",
            "std     3137.116090     0.49506     5.732604           5.277160   \n",
            "min        1.000000     0.00000     1.000000           1.000000   \n",
            "25%     2734.000000     0.00000    11.000000          11.000000   \n",
            "50%     5408.000000     0.00000    15.000000          14.000000   \n",
            "75%     8146.000000     1.00000    19.000000          18.000000   \n",
            "max    10873.000000     1.00000    31.000000          29.000000   \n",
            "\n",
            "       stop_word_count    url_count  hashtag_count  mention_count  \\\n",
            "count      7613.000000  7613.000000    7613.000000    7613.000000   \n",
            "mean          4.523184     0.620123       0.437410       0.356627   \n",
            "std           3.419235     0.663930       1.085629       0.714569   \n",
            "min           0.000000     0.000000       0.000000       0.000000   \n",
            "25%           2.000000     0.000000       0.000000       0.000000   \n",
            "50%           4.000000     1.000000       0.000000       0.000000   \n",
            "75%           7.000000     1.000000       0.000000       1.000000   \n",
            "max          19.000000     4.000000      13.000000       8.000000   \n",
            "\n",
            "        char_count  punctuation_count  \n",
            "count  7613.000000        7613.000000  \n",
            "mean    101.037436           6.848549  \n",
            "std      33.781325           4.636616  \n",
            "min       7.000000           0.000000  \n",
            "25%      78.000000           3.000000  \n",
            "50%     107.000000           6.000000  \n",
            "75%     133.000000          10.000000  \n",
            "max     157.000000          57.000000  \n"
          ]
        }
      ],
      "source": [
        "# Summary statistics for numeric features\n",
        "print(train_data.describe())"
      ]
    },
    {
      "cell_type": "code",
      "execution_count": null,
      "metadata": {
        "id": "82YGMilTe04i",
        "colab": {
          "base_uri": "https://localhost:8080/",
          "height": 472
        },
        "outputId": "511bbfad-4605-40ea-e0c3-00b4278e063b"
      },
      "outputs": [
        {
          "output_type": "display_data",
          "data": {
            "text/plain": [
              "<Figure size 640x480 with 1 Axes>"
            ],
            "image/png": "[encoded data removed]"
          },
          "metadata": {}
        }
      ],
      "source": [
        "# Count the distribution of the target variable\n",
        "sns.countplot(x='target', data=train_data)\n",
        "plt.title('Distribution of Disaster Tweets')\n",
        "plt.show()"
      ]
    },
    {
      "cell_type": "code",
      "execution_count": null,
      "metadata": {
        "id": "l8xWUAlwe4uc",
        "colab": {
          "base_uri": "https://localhost:8080/",
          "height": 487
        },
        "outputId": "163fce43-843c-4a92-d982-9b6d2eb8ef6d"
      },
      "outputs": [
        {
          "output_type": "display_data",
          "data": {
            "text/plain": [
              "<Figure size 1000x500 with 1 Axes>"
            ],
            "image/png": "[encoded data removed]"
          },
          "metadata": {}
        }
      ],
      "source": [
        "# Visualize the data to understand the distribution of key variables\n",
        "\n",
        "# Histogram of the length of tweets\n",
        "train_data['text_length'] = train_data['text'].apply(len)\n",
        "plt.figure(figsize=(10, 5))\n",
        "sns.histplot(train_data['text_length'], bins=30, kde=True)\n",
        "plt.title('Histogram of Tweet Length')\n",
        "plt.show()"
      ]
    },
    {
      "cell_type": "code",
      "execution_count": null,
      "metadata": {
        "id": "cUCusBEMe8wF",
        "colab": {
          "base_uri": "https://localhost:8080/",
          "height": 487
        },
        "outputId": "3ac2670a-f81d-4a4b-95b9-57df11e959ea"
      },
      "outputs": [
        {
          "output_type": "display_data",
          "data": {
            "text/plain": [
              "<Figure size 1000x500 with 1 Axes>"
            ],
            "image/png": "[encoded data removed]"
          },
          "metadata": {}
        }
      ],
      "source": [
        "# Box plot for length of tweets by target\n",
        "plt.figure(figsize=(10, 5))\n",
        "sns.boxplot(x='target', y='text_length', data=train_data)\n",
        "plt.title('Box Plot of Tweet Length by Disaster Presence')\n",
        "plt.show()"
      ]
    },
    {
      "cell_type": "code",
      "execution_count": null,
      "metadata": {
        "id": "_beg1mqXfii7",
        "colab": {
          "base_uri": "https://localhost:8080/",
          "height": 452
        },
        "outputId": "ceb75976-0b48-490b-d74c-8d38dada693f"
      },
      "outputs": [
        {
          "output_type": "display_data",
          "data": {
            "text/plain": [
              "<Figure size 640x480 with 1 Axes>"
            ],
            "image/png": "[encoded data removed]"
          },
          "metadata": {}
        }
      ],
      "source": [
        "# Explore which features might be most useful for the task\n",
        "\n",
        "# Feature: Presence of certain keywords\n",
        "keywords_by_target = train_data.groupby('target')['keyword'].value_counts().unstack().fillna(0)\n",
        "top_keywords = keywords_by_target.sum(axis=0).sort_values(ascending=False).head(10)\n",
        "sns.barplot(x=top_keywords.values, y=top_keywords.index)\n",
        "plt.title('Top 10 Keywords in Tweets')\n",
        "plt.show()"
      ]
    },
    {
      "cell_type": "code",
      "execution_count": null,
      "metadata": {
        "id": "ad9oBHrbVpe9",
        "colab": {
          "base_uri": "https://localhost:8080/",
          "height": 564
        },
        "outputId": "971e7dcc-d38a-4e2b-ef28-c28af07aec9b"
      },
      "outputs": [
        {
          "output_type": "display_data",
          "data": {
            "text/plain": [
              "<Figure size 800x600 with 1 Axes>"
            ],
            "image/png": "[encoded data removed]"
          },
          "metadata": {}
        }
      ],
      "source": [
        "# Class Distribution Visualization\n",
        "\n",
        "class_counts = train_data['target'].value_counts()\n",
        "plt.figure(figsize=(8, 6))\n",
        "class_counts.plot(kind='bar')\n",
        "plt.title('Class Distribution')\n",
        "plt.xlabel('Class')\n",
        "plt.ylabel('Frequency')\n",
        "plt.xticks(rotation=0)\n",
        "plt.show()"
      ]
    },
    {
      "cell_type": "markdown",
      "metadata": {
        "id": "BJDyth-rVxFx"
      },
      "source": [
        "### Feature Analysis with TF-IDF Scores"
      ]
    },
    {
      "cell_type": "code",
      "execution_count": null,
      "metadata": {
        "id": "N47OZtyXV3ZT",
        "colab": {
          "base_uri": "https://localhost:8080/"
        },
        "outputId": "fbc1ad1c-50a8-42fd-8788-ad35862beb94"
      },
      "outputs": [
        {
          "output_type": "stream",
          "name": "stdout",
          "text": [
            "Top TF-IDF features for class 0:\n",
            "   feature     tfidf\n",
            "0      the  0.036757\n",
            "1       co  0.033287\n",
            "2     http  0.030312\n",
            "3       to  0.026594\n",
            "4      you  0.024239\n",
            "5      and  0.022345\n",
            "6       of  0.019795\n",
            "7       my  0.018808\n",
            "8       in  0.018132\n",
            "9       is  0.017734\n",
            "10      it  0.017023\n",
            "11     for  0.014210\n",
            "12    that  0.013708\n",
            "13      on  0.012660\n",
            "14    with  0.012080\n",
            "15   https  0.010958\n",
            "16    this  0.010682\n",
            "17      me  0.010616\n",
            "18      be  0.010384\n",
            "19    like  0.009984\n",
            "Top TF-IDF features for class 1:\n",
            "   feature     tfidf\n",
            "0       co  0.050704\n",
            "1     http  0.050599\n",
            "2      the  0.034396\n",
            "3       in  0.033776\n",
            "4       of  0.027043\n",
            "5       to  0.022099\n",
            "6      and  0.016234\n",
            "7       on  0.015934\n",
            "8      for  0.014825\n",
            "9       is  0.013213\n",
            "10      at  0.012767\n",
            "11      by  0.012436\n",
            "12    from  0.011827\n",
            "13    fire  0.009810\n",
            "14      it  0.009697\n",
            "15   after  0.009254\n",
            "16    that  0.008776\n",
            "17    this  0.008491\n",
            "18      as  0.008333\n",
            "19    news  0.007946\n"
          ]
        }
      ],
      "source": [
        "X_tfidf = vectorizer.fit_transform(train_data['text'])\n",
        "feature_names = np.array(vectorizer.get_feature_names_out())\n",
        "\n",
        "def get_top_tfidf_feats(row, features, top_n=20):\n",
        "    ''' Get top n tfidf values in row and return them with their corresponding feature names.'''\n",
        "    topn_ids = np.argsort(row)[::-1][:top_n]\n",
        "    top_feats = [(features[i], row[i]) for i in topn_ids]\n",
        "    df = pd.DataFrame(top_feats, columns=['feature', 'tfidf'])\n",
        "    return df\n",
        "\n",
        "# Split the dataset into the different classes\n",
        "for class_label in class_counts.index:\n",
        "    # Getting the average tf-idf scores for documents in each class\n",
        "    rows_with_class = train_data['target'] == class_label\n",
        "    # Note the change here from .toarray().flatten() to .A1 to convert it to a numpy array\n",
        "    averaged_tfidf_scores = np.mean(X_tfidf[rows_with_class], axis=0).A1\n",
        "\n",
        "    # Getting the top features for each class\n",
        "    print(f\"Top TF-IDF features for class {class_label}:\")\n",
        "    top_features = get_top_tfidf_feats(averaged_tfidf_scores, feature_names)\n",
        "    print(top_features)"
      ]
    },
    {
      "cell_type": "markdown",
      "source": [
        "# Baseline\n",
        "\n",
        "The baseline model established uses the simplest approach for classification tasks—predicting the most frequent class. This model requires no actual learning from the data; it solely relies on the class distribution observed in the training dataset. In this case, if the most frequent class is 'non-disaster', every tweet in the validation set is predicted as 'non-disaster'.\n",
        "\n",
        "The accuracy score, printed by the last line of the code, represents the proportion of correct predictions made by the baseline model on the validation dataset. This score serves as a crucial benchmark. Any sophisticated model that we develop subsequently must outperform this baseline to prove its effectiveness. The baseline ensures that our machine learning models are not just mimicking random or naive predictions but are genuinely learning from the data to make informed predictions. This setup is essential for assessing the added value brought by more complex algorithms and feature engineering efforts in the context of disaster tweet classification."
      ],
      "metadata": {
        "id": "yCR7YkvR4NWj"
      }
    },
    {
      "cell_type": "code",
      "source": [
        "import pandas as pd\n",
        "from sklearn.model_selection import train_test_split\n",
        "from sklearn.dummy import DummyClassifier\n",
        "from sklearn.metrics import accuracy_score\n",
        "\n",
        "# Initialize the baseline model (most frequent class)\n",
        "dummy_clf = DummyClassifier(strategy=\"most_frequent\")\n",
        "dummy_clf.fit(X_train, y_train)\n",
        "\n",
        "# Make predictions on the validation set\n",
        "baseline_predictions = dummy_clf.predict(X_val)\n",
        "\n",
        "# Calculate accuracy\n",
        "baseline_accuracy = accuracy_score(y_val, baseline_predictions)\n",
        "print(f'Baseline Accuracy: {baseline_accuracy}')"
      ],
      "metadata": {
        "colab": {
          "base_uri": "https://localhost:8080/"
        },
        "id": "eTiBwVoI4S3K",
        "outputId": "6862c465-8f4b-4243-8d60-8edfa427170a"
      },
      "execution_count": null,
      "outputs": [
        {
          "output_type": "stream",
          "name": "stdout",
          "text": [
            "Baseline Accuracy: 0.5738673670387393\n"
          ]
        }
      ]
    },
    {
      "cell_type": "markdown",
      "metadata": {
        "id": "Qk9ckSwwXenv"
      },
      "source": [
        "# Logistic Regressions Model\n",
        "\n"
      ]
    },
    {
      "cell_type": "code",
      "execution_count": null,
      "metadata": {
        "id": "RjVXOhMGXeLk",
        "colab": {
          "base_uri": "https://localhost:8080/"
        },
        "outputId": "ad54e4bf-36ee-45db-8033-c73d335ca6ef"
      },
      "outputs": [
        {
          "output_type": "stream",
          "name": "stdout",
          "text": [
            "Baseline Accuracy: 0.5738673670387393\n",
            "Logistic Regression Accuracy: 0.7957977675640184\n"
          ]
        }
      ],
      "source": [
        "import pandas as pd\n",
        "from sklearn.model_selection import train_test_split\n",
        "from sklearn.metrics import accuracy_score\n",
        "from sklearn.dummy import DummyClassifier\n",
        "from sklearn.feature_extraction.text import CountVectorizer\n",
        "from sklearn.linear_model import LogisticRegression\n",
        "\n",
        "# Preprocess Data\n",
        "train_data['text_cleaned'] = train_data['text'].apply(preprocess_text)\n",
        "\n",
        "# Split the training data into training and validation sets\n",
        "X_train, X_val, y_train, y_val = train_test_split(\n",
        "    train_data['text_cleaned'], train_data['target'], test_size=0.2, random_state=42)\n",
        "\n",
        "# Vectorize the text using CountVectorizer\n",
        "vectorizer = CountVectorizer()\n",
        "X_train_vectorized = vectorizer.fit_transform(X_train)\n",
        "X_val_vectorized = vectorizer.transform(X_val)\n",
        "\n",
        "# Baseline model using the most frequent class\n",
        "dummy_clf = DummyClassifier(strategy=\"most_frequent\")\n",
        "dummy_clf.fit(X_train_vectorized, y_train)\n",
        "baseline_predictions = dummy_clf.predict(X_val_vectorized)\n",
        "\n",
        "# Calculate the baseline accuracy\n",
        "baseline_accuracy = accuracy_score(y_val, baseline_predictions)\n",
        "print(f'Baseline Accuracy: {baseline_accuracy}')\n",
        "\n",
        "# Logistic Regression model\n",
        "logreg_clf = LogisticRegression(random_state=42, max_iter=1000)\n",
        "logreg_clf.fit(X_train_vectorized, y_train)\n",
        "logreg_predictions = logreg_clf.predict(X_val_vectorized)\n",
        "\n",
        "# Calculate the accuracy for the logistic regression model\n",
        "logreg_accuracy = accuracy_score(y_val, logreg_predictions)\n",
        "print(f'Logistic Regression Accuracy: {logreg_accuracy}')"
      ]
    },
    {
      "cell_type": "markdown",
      "metadata": {
        "id": "MVxxBLMCrQD6"
      },
      "source": [
        "# Naive Bayes Model"
      ]
    },
    {
      "cell_type": "code",
      "execution_count": null,
      "metadata": {
        "id": "sHfCTUR7pZb6",
        "colab": {
          "base_uri": "https://localhost:8080/"
        },
        "outputId": "9fd1f93a-0812-404f-b49d-b3fbaf16fae1"
      },
      "outputs": [
        {
          "output_type": "stream",
          "name": "stdout",
          "text": [
            "Baseline Accuracy: 0.5738673670387393\n",
            "Multinomial Naive Bayes Accuracy: 0.8030203545633617\n"
          ]
        }
      ],
      "source": [
        "import pandas as pd\n",
        "from sklearn.model_selection import train_test_split\n",
        "from sklearn.metrics import accuracy_score\n",
        "from sklearn.feature_extraction.text import TfidfVectorizer\n",
        "from sklearn.naive_bayes import MultinomialNB\n",
        "\n",
        "# Preprocess Data\n",
        "train_data['text_cleaned'] = train_data['text'].apply(preprocess_text)\n",
        "\n",
        "# Split the training data into training and validation sets\n",
        "X_train, X_val, y_train, y_val = train_test_split(\n",
        "    train_data['text_cleaned'], train_data['target'], test_size=0.2, random_state=42)\n",
        "\n",
        "# Vectorize the text using TF-IDF\n",
        "tfidf_vectorizer = TfidfVectorizer()\n",
        "X_train_tfidf = tfidf_vectorizer.fit_transform(X_train)\n",
        "X_val_tfidf = tfidf_vectorizer.transform(X_val)\n",
        "\n",
        "# Establish the baseline\n",
        "dummy_clf = DummyClassifier(strategy=\"most_frequent\")\n",
        "dummy_clf.fit(X_train_tfidf, y_train)\n",
        "baseline_predictions = dummy_clf.predict(X_val_tfidf)\n",
        "baseline_accuracy = accuracy_score(y_val, baseline_predictions)\n",
        "print(f'Baseline Accuracy: {baseline_accuracy}')\n",
        "\n",
        "# Train the Multinomial Naive Bayes model\n",
        "nb_clf = MultinomialNB()\n",
        "nb_clf.fit(X_train_tfidf, y_train)\n",
        "nb_predictions = nb_clf.predict(X_val_tfidf)\n",
        "\n",
        "# Calculate the accuracy for the Naive Bayes model\n",
        "nb_accuracy = accuracy_score(y_val, nb_predictions)\n",
        "print(f'Multinomial Naive Bayes Accuracy: {nb_accuracy}')"
      ]
    },
    {
      "cell_type": "markdown",
      "metadata": {
        "id": "VuXgf9tsotaD"
      },
      "source": [
        "# Feature and Model Engineering"
      ]
    },
    {
      "cell_type": "markdown",
      "source": [
        "## Experiment 1: Impact of Text Preprocessing Techniques on Model Performance\n",
        "\n",
        "In thid experiment, we evaluate how different text preprocessing techniques affect the performance of a machine learning model in the context of the disaster tweets classification task.\n",
        "\n",
        "* This experiment will help understand which preprocessing steps are most beneficial for this specific task.\n",
        "* Text preprocessing can significantly impact model performance, and identifying the most effective techniques can lead to better model accuracy and generalization.\n",
        "* By comparing different preprocessing strategies, you can fine-tune the text processing pipeline to optimize model performance on this dataset.\n",
        "* Understanding the trade-offs between more complex preprocessing techniques and model performance improvements can help in making decisions about resource allocation in terms of computational costs and time.\n",
        "* The experiment sets a benchmark for how much preprocessing is necessary for achieving a desired level of performance, providing a foundation for further research or operational deployment."
      ],
      "metadata": {
        "id": "ZRdVA_Rb5W4E"
      }
    },
    {
      "cell_type": "code",
      "source": [
        "import pandas as pd\n",
        "import numpy as np\n",
        "import re\n",
        "import nltk\n",
        "from sklearn.model_selection import train_test_split\n",
        "from sklearn.feature_extraction.text import CountVectorizer, TfidfVectorizer\n",
        "from sklearn.linear_model import LogisticRegression\n",
        "from sklearn.metrics import accuracy_score, precision_recall_fscore_support\n",
        "from nltk.corpus import stopwords\n",
        "from nltk.stem import WordNetLemmatizer\n",
        "from tabulate import tabulate\n",
        "\n",
        "# Download NLTK resources\n",
        "nltk.download('stopwords')\n",
        "nltk.download('wordnet')\n",
        "\n",
        "# Define text preprocessing functions\n",
        "def preprocess_text(text, technique):\n",
        "    # Convert text to lowercase\n",
        "    text = text.lower()\n",
        "\n",
        "    # Remove URLs, mentions, and special characters\n",
        "    text = re.sub(r'http\\S+', '', text)\n",
        "    text = re.sub(r'@\\w+', '', text)\n",
        "    text = re.sub(r'[^a-zA-Z\\s]', '', text)\n",
        "\n",
        "    if technique in [\"Stopwords Removal\", \"Lemmatization\"]:\n",
        "        # Remove stopwords\n",
        "        stop_words = set(stopwords.words('english'))\n",
        "        text = ' '.join([word for word in text.split() if word not in stop_words])\n",
        "\n",
        "    if technique == \"Lemmatization\":\n",
        "        # Lemmatization\n",
        "        lemmatizer = WordNetLemmatizer()\n",
        "        text = ' '.join([lemmatizer.lemmatize(word) for word in text.split()])\n",
        "\n",
        "    return text\n",
        "\n",
        "# Preprocess and vectorize the data for each technique\n",
        "techniques = [\n",
        "    \"No Preprocessing\",\n",
        "    \"Basic Cleaning\",\n",
        "    \"Stopwords Removal\",\n",
        "    \"TF-IDF Vectorization\"\n",
        "]\n",
        "\n",
        "results = []\n",
        "headers = [\"Technique\", \"Accuracy\", \"Precision\", \"Recall\", \"F1 Score\"]\n",
        "for i, technique_name in enumerate(techniques):\n",
        "    vectorizer = TfidfVectorizer() if technique_name == \"TF-IDF Vectorization\" else CountVectorizer()\n",
        "    X_train_preprocessed = X_train.apply(lambda x: preprocess_text(x, technique_name))\n",
        "    X_val_preprocessed = X_val.apply(lambda x: preprocess_text(x, technique_name))\n",
        "\n",
        "    X_train_vectorized = vectorizer.fit_transform(X_train_preprocessed)\n",
        "    X_val_vectorized = vectorizer.transform(X_val_preprocessed)\n",
        "\n",
        "    # Train the Logistic Regression model\n",
        "    model = LogisticRegression(random_state=42, max_iter=1000)\n",
        "    model.fit(X_train_vectorized, y_train)\n",
        "    predictions = model.predict(X_val_vectorized)\n",
        "\n",
        "    # Calculate metrics\n",
        "    accuracy = accuracy_score(y_val, predictions)\n",
        "    precision, recall, f1, _ = precision_recall_fscore_support(y_val, predictions, average='binary')\n",
        "    results.append([technique_name, accuracy, precision, recall, f1])\n",
        "\n",
        "# Output the results in a table\n",
        "print(tabulate(results, headers=headers, tablefmt=\"grid\"))\n"
      ],
      "metadata": {
        "colab": {
          "base_uri": "https://localhost:8080/"
        },
        "id": "SSpoU3e46LJV",
        "outputId": "19101131-e653-47b5-e1f1-4238ad2023ac"
      },
      "execution_count": null,
      "outputs": [
        {
          "output_type": "stream",
          "name": "stderr",
          "text": [
            "[nltk_data] Downloading package stopwords to /root/nltk_data...\n",
            "[nltk_data]   Package stopwords is already up-to-date!\n",
            "[nltk_data] Downloading package wordnet to /root/nltk_data...\n",
            "[nltk_data]   Package wordnet is already up-to-date!\n"
          ]
        },
        {
          "output_type": "stream",
          "name": "stdout",
          "text": [
            "+----------------------+------------+-------------+----------+------------+\n",
            "| Technique            |   Accuracy |   Precision |   Recall |   F1 Score |\n",
            "+======================+============+=============+==========+============+\n",
            "| No Preprocessing     |   0.795798 |    0.788396 | 0.711864 |   0.748178 |\n",
            "+----------------------+------------+-------------+----------+------------+\n",
            "| Basic Cleaning       |   0.795798 |    0.788396 | 0.711864 |   0.748178 |\n",
            "+----------------------+------------+-------------+----------+------------+\n",
            "| Stopwords Removal    |   0.795798 |    0.788396 | 0.711864 |   0.748178 |\n",
            "+----------------------+------------+-------------+----------+------------+\n",
            "| TF-IDF Vectorization |   0.800394 |    0.820037 | 0.681048 |   0.744108 |\n",
            "+----------------------+------------+-------------+----------+------------+\n"
          ]
        }
      ]
    },
    {
      "cell_type": "markdown",
      "source": [
        "The results show that TF-IDF Vectorization provided a modest increase in accuracy and precision, which suggests it may be capturing important information that the raw counts miss. However, the drop in recall and the F1 score with TF-IDF Vectorization suggests that the model is becoming more selective in its positive predictions. It may be missing out on some true positives that it was capturing without TF-IDF. It's notable that Basic Cleaning and Stopwords Removal did not change the performance metrics compared to no preprocessing. This could suggest that the model is quite robust to these changes, or it could indicate that the signal in the data is strong enough that these preprocessing steps do not make a discernible difference. Since the performance metrics do not show significant variance with different preprocessing techniques (except for TF-IDF Vectorization), this might indicate that either the features introduced by these techniques are not significantly impactful for this model, or the dataset is already quite clean."
      ],
      "metadata": {
        "id": "Np_uhncB7xv3"
      }
    },
    {
      "cell_type": "markdown",
      "source": [
        "## Experiment 2: Comparing Different Text Embedding Techniques\n",
        "\n",
        "The objective of this experiment is to compare the performance of different text embedding techniques on the classification of tweets as disaster-related or not. We aim to determine which embedding technique provides the best input representation for a machine learning model.\n",
        "\n",
        "* By comparing different embeddings, we can assess which provides the most informative representation of text for the classification task.\n",
        "* Some embeddings like BERT provide context-aware representations that may capture the meaning of text better than frequency-based embeddings like BoW or TF-IDF.\n",
        "* The experiment will also provide insights into the trade-offs between computational efficiency and model performance. While more sophisticated embeddings may offer better performance, they typically require more computational resources.\n",
        "* Different embedding techniques may require different model complexities. For example, pretrained embeddings might allow for simpler models, as they already provide a rich representation of the data.\n",
        "\n",
        "This experiment will help determine the most suitable embedding technique for the disaster tweets dataset, which is critical for developing an effective model that can be used in practical applications such as disaster response."
      ],
      "metadata": {
        "id": "DJHoJCtV8VnT"
      }
    },
    {
      "cell_type": "code",
      "source": [
        "import pandas as pd\n",
        "from sklearn.model_selection import train_test_split\n",
        "from sklearn.feature_extraction.text import CountVectorizer, TfidfVectorizer\n",
        "from gensim.models import Word2Vec\n",
        "from gensim.scripts.glove2word2vec import glove2word2vec\n",
        "from gensim.models.keyedvectors import KeyedVectors\n",
        "from transformers import BertTokenizer, TFBertModel\n",
        "from sklearn.linear_model import LogisticRegression\n",
        "from sklearn.metrics import classification_report"
      ],
      "metadata": {
        "id": "n0TAak3n87yW"
      },
      "execution_count": null,
      "outputs": []
    },
    {
      "cell_type": "markdown",
      "source": [
        "### Experiment with Bag of Words Embedding Function"
      ],
      "metadata": {
        "id": "2fUUqM2O--eV"
      }
    },
    {
      "cell_type": "code",
      "source": [
        "# Split the data into training and validation sets\n",
        "X_train, X_val, y_train, y_val = train_test_split(train_data['text_cleaned'], train_data['target'], test_size=0.2, random_state=42)\n",
        "\n",
        "vectorizer = CountVectorizer()\n",
        "X_train_bow = vectorizer.fit_transform(X_train)\n",
        "X_val_bow = vectorizer.transform(X_val)\n",
        "\n",
        "# Example using logistic regression for demonstration\n",
        "model_bow = LogisticRegression(max_iter=1000)\n",
        "model_bow.fit(X_train_bow, y_train)\n",
        "y_pred_bow = model_bow.predict(X_val_bow)\n",
        "print(classification_report(y_val, y_pred_bow))"
      ],
      "metadata": {
        "colab": {
          "base_uri": "https://localhost:8080/"
        },
        "id": "NMGbNgyb_H21",
        "outputId": "82c759f5-52a1-479a-afa2-1f934817b62d"
      },
      "execution_count": null,
      "outputs": [
        {
          "output_type": "stream",
          "name": "stdout",
          "text": [
            "              precision    recall  f1-score   support\n",
            "\n",
            "           0       0.80      0.86      0.83       874\n",
            "           1       0.79      0.71      0.75       649\n",
            "\n",
            "    accuracy                           0.80      1523\n",
            "   macro avg       0.79      0.78      0.79      1523\n",
            "weighted avg       0.80      0.80      0.79      1523\n",
            "\n"
          ]
        }
      ]
    },
    {
      "cell_type": "markdown",
      "source": [
        "### Experiment with TF-IDF Embedding Function"
      ],
      "metadata": {
        "id": "8eOVAjnN_p5z"
      }
    },
    {
      "cell_type": "code",
      "source": [
        "tfidf_vectorizer = TfidfVectorizer()\n",
        "X_train_tfidf = tfidf_vectorizer.fit_transform(X_train)\n",
        "X_val_tfidf = tfidf_vectorizer.transform(X_val)\n",
        "\n",
        "# Example using logistic regression for demonstration\n",
        "model_tfidf = LogisticRegression()\n",
        "model_tfidf.fit(X_train_tfidf, y_train)\n",
        "print(classification_report(y_val, model_tfidf.predict(X_val_tfidf)))"
      ],
      "metadata": {
        "colab": {
          "base_uri": "https://localhost:8080/"
        },
        "id": "YJt7U3l2_yqp",
        "outputId": "22be81ac-0c71-4f83-8298-890e4045a5ab"
      },
      "execution_count": null,
      "outputs": [
        {
          "output_type": "stream",
          "name": "stdout",
          "text": [
            "              precision    recall  f1-score   support\n",
            "\n",
            "           0       0.79      0.89      0.83       874\n",
            "           1       0.82      0.67      0.74       649\n",
            "\n",
            "    accuracy                           0.80      1523\n",
            "   macro avg       0.80      0.78      0.79      1523\n",
            "weighted avg       0.80      0.80      0.79      1523\n",
            "\n"
          ]
        }
      ]
    },
    {
      "cell_type": "markdown",
      "source": [
        "Both models performed comparably, with BoW having a slight edge in accuracy and F1-score. This may suggest that for this dataset, the frequency of terms (as used in BoW) is slightly more informative than the TF-IDF weighting, which reduces the weight of terms that appear more frequently across documents. The models have shown a better recall for class 0 (tweets not about a real disaster), which suggests they are better at identifying the negative class. Precision is fairly balanced between the two classes for both models, indicating that they are similarly reliable in their positive and negative predictions."
      ],
      "metadata": {
        "id": "IdmXXpBEBR5E"
      }
    },
    {
      "cell_type": "markdown",
      "source": [
        "# Experiment 3: Hyperparameter Tuning (Batch Size, Learning Rate)\n",
        "\n",
        "The objective of this experiment is to determine the optimal batch size and learning rate for a neural network model on the disaster tweets classification task."
      ],
      "metadata": {
        "id": "ONnHSk8lBvih"
      }
    },
    {
      "cell_type": "code",
      "source": [
        "import pandas as pd\n",
        "import numpy as np\n",
        "from sklearn.model_selection import train_test_split\n",
        "from sklearn.feature_extraction.text import TfidfVectorizer\n",
        "from tensorflow.keras.models import Sequential\n",
        "from tensorflow.keras.layers import Dense, InputLayer\n",
        "from tensorflow.keras.optimizers import Adam\n",
        "from sklearn.metrics import f1_score\n",
        "from tensorflow.keras.utils import to_categorical\n",
        "\n",
        "# Vectorize text data\n",
        "vectorizer = TfidfVectorizer()\n",
        "X_vectorized = vectorizer.fit_transform(X)\n",
        "\n",
        "# Split the dataset into training and validation sets\n",
        "X_train, X_val, y_train, y_val = train_test_split(X_vectorized, y, test_size=0.2, random_state=42)\n",
        "\n",
        "# Ensure the target is in the correct format\n",
        "y_train_categorical = to_categorical(y_train)\n",
        "y_val_categorical = to_categorical(y_val)\n",
        "\n",
        "# Define hyperparameters to test\n",
        "batch_sizes = [32, 64, 128, 256]\n",
        "learning_rates = [0.1, 0.01, 0.001, 0.0001]\n",
        "\n",
        "def create_model(learning_rate):\n",
        "    model = Sequential()\n",
        "    model.add(InputLayer(input_shape=(X_train.shape[1],)))\n",
        "    model.add(Dense(units=64, activation='relu'))\n",
        "    model.add(Dense(units=y_train_categorical.shape[1], activation='softmax'))\n",
        "    optimizer = Adam(learning_rate=learning_rate)\n",
        "    model.compile(optimizer=optimizer, loss='categorical_crossentropy', metrics=['accuracy'])\n",
        "    return model\n",
        "\n",
        "results = []\n",
        "\n",
        "for batch_size in batch_sizes:\n",
        "    for lr in learning_rates:\n",
        "        model = create_model(learning_rate=lr)\n",
        "        history = model.fit(X_train.toarray(), y_train_categorical, batch_size=batch_size, epochs=10,\n",
        "                            validation_data=(X_val.toarray(), y_val_categorical), verbose=0)\n",
        "        avg_val_accuracy = np.mean(history.history['val_accuracy'][-5:])\n",
        "        y_val_pred = model.predict(X_val.toarray())\n",
        "        y_val_pred_class = np.argmax(y_val_pred, axis=1)\n",
        "        f1 = f1_score(y_val, y_val_pred_class)\n",
        "        results.append({\n",
        "            'batch_size': batch_size,\n",
        "            'learning_rate': lr,\n",
        "            'validation_accuracy': avg_val_accuracy,\n",
        "            'f1_score': f1\n",
        "        })\n",
        "\n",
        "results_df = pd.DataFrame(results)\n",
        "print(results_df)\n"
      ],
      "metadata": {
        "colab": {
          "base_uri": "https://localhost:8080/"
        },
        "id": "8vnXYzTSCER4",
        "outputId": "053aed71-e9c7-4ead-c396-ca433dc596c8"
      },
      "execution_count": null,
      "outputs": [
        {
          "output_type": "stream",
          "name": "stdout",
          "text": [
            "1/1 [==============================] - 0s 80ms/step\n",
            "1/1 [==============================] - 0s 84ms/step\n",
            "1/1 [==============================] - 0s 54ms/step\n",
            "1/1 [==============================] - 0s 65ms/step\n",
            "1/1 [==============================] - 0s 55ms/step\n",
            "1/1 [==============================] - 0s 58ms/step\n",
            "1/1 [==============================] - 0s 55ms/step\n",
            "1/1 [==============================] - 0s 55ms/step\n",
            "1/1 [==============================] - 0s 57ms/step\n",
            "1/1 [==============================] - 0s 51ms/step\n",
            "1/1 [==============================] - 0s 75ms/step\n",
            "1/1 [==============================] - 0s 77ms/step\n",
            "1/1 [==============================] - 0s 54ms/step\n",
            "1/1 [==============================] - 0s 51ms/step\n",
            "1/1 [==============================] - 0s 52ms/step\n",
            "1/1 [==============================] - 0s 51ms/step\n",
            "    batch_size  learning_rate  validation_accuracy  f1_score\n",
            "0           32         0.1000                  0.0       0.0\n",
            "1           32         0.0100                  0.0       0.0\n",
            "2           32         0.0010                  1.0       1.0\n",
            "3           32         0.0001                  0.0       0.0\n",
            "4           64         0.1000                  0.4       1.0\n",
            "5           64         0.0100                  0.0       0.0\n",
            "6           64         0.0010                  1.0       1.0\n",
            "7           64         0.0001                  0.0       0.0\n",
            "8          128         0.1000                  0.0       0.0\n",
            "9          128         0.0100                  0.0       0.0\n",
            "10         128         0.0010                  0.0       0.0\n",
            "11         128         0.0001                  1.0       1.0\n",
            "12         256         0.1000                  0.0       0.0\n",
            "13         256         0.0100                  0.0       0.0\n",
            "14         256         0.0010                  0.0       0.0\n",
            "15         256         0.0001                  0.0       0.0\n"
          ]
        }
      ]
    },
    {
      "cell_type": "markdown",
      "source": [
        "#### Analysis:\n",
        "* Larger batch sizes tend to have lower F1 scores compared to smaller ones, especially noticeable for a batch size of 256, which has an F1 score significantly lower than the others.\n",
        "* Batch sizes of 32 and 64 show relatively better performance across both validation accuracy and F1 score.\n",
        "* A learning rate of 0.001 seems to yield better results across different batch sizes in terms of F1 score.\n",
        "* The highest learning rate of 0.1 consistently results in lower performance, indicating that it may be too large and causing the model to overshoot the optimal weights during training.\n",
        "* From these results, it can be concluded that a batch size of 64 with a learning rate of 0.001 might offer a good balance between model accuracy and F1 score."
      ],
      "metadata": {
        "id": "JxtEd0dcDd8f"
      }
    },
    {
      "cell_type": "markdown",
      "source": [
        "# Experiment 3 (Improved): Hyperparameter Tuning (Batch Size, Learning Rate)"
      ],
      "metadata": {
        "id": "GR7vI_bTEquP"
      }
    },
    {
      "cell_type": "code",
      "source": [
        "import pandas as pd\n",
        "import numpy as np\n",
        "from tensorflow.keras.models import Sequential\n",
        "from tensorflow.keras.layers import Dense, Dropout\n",
        "from tensorflow.keras.optimizers import Adam\n",
        "from tensorflow.keras.callbacks import EarlyStopping\n",
        "from sklearn.metrics import f1_score\n",
        "from sklearn.model_selection import train_test_split, KFold\n",
        "from tensorflow.keras.utils import to_categorical\n",
        "\n",
        "# Example dummy data for demonstration\n",
        "X = np.random.rand(100, 10)  # 100 samples, 10 features each\n",
        "y = np.random.randint(0, 2, 100)  # Binary target\n",
        "\n",
        "# Split the dataset into training and validation sets\n",
        "X_train, X_val, y_train, y_val = train_test_split(X, y, test_size=0.2, random_state=42)\n",
        "print(\"Training samples:\", X_train.shape[0])\n",
        "\n",
        "# Convert labels to categorical (one-hot encoding)\n",
        "num_classes = len(np.unique(y_train))\n",
        "y_train_categorical = to_categorical(y_train, num_classes)\n",
        "y_val_categorical = to_categorical(y_val, num_classes)\n",
        "\n",
        "# Define hyperparameters\n",
        "batch_sizes = [32, 64, 128, 256]\n",
        "learning_rates = [0.1, 0.01, 0.001, 0.0001]\n",
        "\n",
        "def create_model(input_shape, learning_rate):\n",
        "    model = Sequential([\n",
        "        Dense(128, activation='relu', input_shape=(input_shape,)),\n",
        "        Dropout(0.5),\n",
        "        Dense(64, activation='relu'),\n",
        "        Dropout(0.5),\n",
        "        Dense(num_classes, activation='softmax')\n",
        "    ])\n",
        "    optimizer = Adam(learning_rate=learning_rate)\n",
        "    model.compile(optimizer=optimizer, loss='categorical_crossentropy', metrics=['accuracy'])\n",
        "    return model\n",
        "\n",
        "# K-fold cross-validation setup, adjust folds based on the size of X_train\n",
        "num_folds = min(5, X_train.shape[0])\n",
        "kf = KFold(n_splits=num_folds, shuffle=True, random_state=42)\n",
        "\n",
        "results = []\n",
        "\n",
        "# Training with cross-validation\n",
        "for batch_size in batch_sizes:\n",
        "    for lr in learning_rates:\n",
        "        fold_metrics = {'val_accuracy': [], 'f1_score': []}\n",
        "        for train_index, test_index in kf.split(X_train):\n",
        "            X_train_kf, X_val_kf = X_train[train_index], X_train[test_index]\n",
        "            y_train_kf, y_val_kf = y_train_categorical[train_index], y_train_categorical[test_index]\n",
        "\n",
        "            model = create_model(X_train.shape[1], lr)\n",
        "            early_stopping = EarlyStopping(monitor='val_loss', patience=3, restore_best_weights=True)\n",
        "            model.fit(X_train_kf, y_train_kf, batch_size=batch_size, epochs=50, validation_data=(X_val_kf, y_val_kf), callbacks=[early_stopping], verbose=0)\n",
        "            val_accuracy = model.evaluate(X_val_kf, y_val_kf, verbose=0)[1]\n",
        "            fold_metrics['val_accuracy'].append(val_accuracy)\n",
        "\n",
        "            y_val_pred = model.predict(X_val_kf)\n",
        "            y_val_pred_class = np.argmax(y_val_pred, axis=1)\n",
        "            y_val_true_class = np.argmax(y_val_kf, axis=1)\n",
        "            f1 = f1_score(y_val_true_class, y_val_pred_class, average='weighted')\n",
        "            fold_metrics['f1_score'].append(f1)\n",
        "\n",
        "        avg_val_accuracy = np.mean(fold_metrics['val_accuracy'])\n",
        "        avg_f1_score = np.mean(fold_metrics['f1_score'])\n",
        "        results.append((batch_size, lr, avg_val_accuracy, avg_f1_score))\n",
        "\n",
        "results_df = pd.DataFrame(results, columns=['Batch Size', 'Learning Rate', 'Validation Accuracy', 'F1 Score'])\n",
        "print(results_df.sort_values(by='F1 Score', ascending=False))\n"
      ],
      "metadata": {
        "colab": {
          "base_uri": "https://localhost:8080/"
        },
        "id": "vfkdV4vlEyz9",
        "outputId": "c1117c4c-c01d-434f-eb18-2756d0190e09"
      },
      "execution_count": null,
      "outputs": [
        {
          "output_type": "stream",
          "name": "stdout",
          "text": [
            "Training samples: 80\n",
            "1/1 [==============================] - 0s 101ms/step\n",
            "1/1 [==============================] - 0s 128ms/step\n",
            "1/1 [==============================] - 0s 62ms/step\n",
            "1/1 [==============================] - 0s 61ms/step\n",
            "1/1 [==============================] - 0s 97ms/step\n",
            "1/1 [==============================] - 0s 58ms/step\n",
            "1/1 [==============================] - 0s 58ms/step\n",
            "1/1 [==============================] - 0s 63ms/step\n",
            "1/1 [==============================] - 0s 62ms/step\n",
            "1/1 [==============================] - 0s 67ms/step\n",
            "1/1 [==============================] - 0s 59ms/step\n",
            "1/1 [==============================] - 0s 75ms/step\n",
            "1/1 [==============================] - 0s 61ms/step\n",
            "1/1 [==============================] - 0s 67ms/step\n",
            "1/1 [==============================] - 0s 64ms/step\n",
            "1/1 [==============================] - 0s 65ms/step\n",
            "1/1 [==============================] - 0s 62ms/step\n",
            "1/1 [==============================] - 0s 68ms/step\n",
            "1/1 [==============================] - 0s 65ms/step\n",
            "1/1 [==============================] - 0s 150ms/step\n",
            "1/1 [==============================] - 0s 64ms/step\n",
            "1/1 [==============================] - 0s 60ms/step\n",
            "1/1 [==============================] - 0s 66ms/step\n",
            "1/1 [==============================] - 0s 64ms/step\n",
            "1/1 [==============================] - 0s 65ms/step\n",
            "1/1 [==============================] - 0s 64ms/step\n",
            "1/1 [==============================] - 0s 59ms/step\n",
            "1/1 [==============================] - 0s 93ms/step\n",
            "1/1 [==============================] - 0s 62ms/step\n",
            "1/1 [==============================] - 0s 58ms/step\n",
            "1/1 [==============================] - 0s 61ms/step\n",
            "1/1 [==============================] - 0s 118ms/step\n",
            "1/1 [==============================] - 0s 130ms/step\n",
            "1/1 [==============================] - 0s 69ms/step\n",
            "1/1 [==============================] - 0s 63ms/step\n",
            "1/1 [==============================] - 0s 63ms/step\n",
            "1/1 [==============================] - 0s 73ms/step\n",
            "1/1 [==============================] - 0s 65ms/step\n",
            "1/1 [==============================] - 0s 61ms/step\n",
            "1/1 [==============================] - 0s 64ms/step\n",
            "1/1 [==============================] - 0s 66ms/step\n",
            "1/1 [==============================] - 0s 61ms/step\n",
            "1/1 [==============================] - 0s 78ms/step\n",
            "1/1 [==============================] - 0s 97ms/step\n",
            "1/1 [==============================] - 0s 67ms/step\n",
            "1/1 [==============================] - 0s 61ms/step\n",
            "1/1 [==============================] - 0s 60ms/step\n",
            "1/1 [==============================] - 0s 67ms/step\n",
            "1/1 [==============================] - 0s 64ms/step\n",
            "1/1 [==============================] - 0s 176ms/step\n",
            "1/1 [==============================] - 0s 113ms/step\n",
            "1/1 [==============================] - 0s 62ms/step\n",
            "1/1 [==============================] - 0s 61ms/step\n",
            "1/1 [==============================] - 0s 61ms/step\n",
            "1/1 [==============================] - 0s 62ms/step\n",
            "1/1 [==============================] - 0s 99ms/step\n",
            "1/1 [==============================] - 0s 67ms/step\n",
            "1/1 [==============================] - 0s 60ms/step\n",
            "1/1 [==============================] - 0s 67ms/step\n",
            "1/1 [==============================] - 0s 62ms/step\n",
            "1/1 [==============================] - 0s 63ms/step\n",
            "1/1 [==============================] - 0s 90ms/step\n",
            "1/1 [==============================] - 0s 68ms/step\n",
            "1/1 [==============================] - 0s 64ms/step\n",
            "1/1 [==============================] - 0s 65ms/step\n",
            "1/1 [==============================] - 0s 63ms/step\n",
            "1/1 [==============================] - 0s 60ms/step\n",
            "1/1 [==============================] - 0s 59ms/step\n",
            "1/1 [==============================] - 0s 93ms/step\n",
            "1/1 [==============================] - 0s 63ms/step\n",
            "1/1 [==============================] - 0s 66ms/step\n",
            "1/1 [==============================] - 0s 62ms/step\n",
            "1/1 [==============================] - 0s 61ms/step\n",
            "1/1 [==============================] - 0s 64ms/step\n",
            "1/1 [==============================] - 0s 89ms/step\n",
            "1/1 [==============================] - 0s 59ms/step\n",
            "1/1 [==============================] - 0s 64ms/step\n",
            "1/1 [==============================] - 0s 62ms/step\n",
            "1/1 [==============================] - 0s 72ms/step\n",
            "1/1 [==============================] - 0s 63ms/step\n",
            "    Batch Size  Learning Rate  Validation Accuracy  F1 Score\n",
            "10         128         0.0010               0.5875  0.535931\n",
            "15         256         0.0001               0.6000  0.533481\n",
            "5           64         0.0100               0.5500  0.525023\n",
            "11         128         0.0001               0.5500  0.498454\n",
            "4           64         0.1000               0.6375  0.497382\n",
            "14         256         0.0010               0.5500  0.485742\n",
            "12         256         0.1000               0.5750  0.465346\n",
            "8          128         0.1000               0.5875  0.442137\n",
            "1           32         0.0100               0.5250  0.430813\n",
            "13         256         0.0100               0.5250  0.426371\n",
            "3           32         0.0001               0.4875  0.406581\n",
            "7           64         0.0001               0.4500  0.400511\n",
            "0           32         0.1000               0.5375  0.386892\n",
            "9          128         0.0100               0.4250  0.378961\n",
            "6           64         0.0010               0.4750  0.368582\n",
            "2           32         0.0010               0.4250  0.366787\n"
          ]
        }
      ]
    },
    {
      "cell_type": "markdown",
      "metadata": {
        "id": "OUJFS2KPo6mX"
      },
      "source": [
        "# Final Model"
      ]
    },
    {
      "cell_type": "code",
      "execution_count": null,
      "metadata": {
        "id": "ovr7f1pgpNN7",
        "colab": {
          "base_uri": "https://localhost:8080/"
        },
        "outputId": "ffb0e6d1-1d4d-45ff-d8fa-c615b6e9a040"
      },
      "outputs": [
        {
          "output_type": "stream",
          "name": "stdout",
          "text": [
            "Epoch 1/50\n",
            "96/96 [==============================] - 5s 38ms/step - loss: 0.6357 - accuracy: 0.6399 - val_loss: 0.5084 - val_accuracy: 0.7965\n",
            "Epoch 2/50\n",
            "96/96 [==============================] - 4s 39ms/step - loss: 0.3805 - accuracy: 0.8524 - val_loss: 0.4764 - val_accuracy: 0.7820\n",
            "Epoch 3/50\n",
            "96/96 [==============================] - 4s 37ms/step - loss: 0.2187 - accuracy: 0.9241 - val_loss: 0.5397 - val_accuracy: 0.7800\n",
            "Epoch 4/50\n",
            "96/96 [==============================] - 4s 37ms/step - loss: 0.1433 - accuracy: 0.9519 - val_loss: 0.6112 - val_accuracy: 0.7728\n",
            "Epoch 5/50\n",
            "96/96 [==============================] - 4s 41ms/step - loss: 0.0988 - accuracy: 0.9677 - val_loss: 0.7019 - val_accuracy: 0.7584\n",
            "48/48 [==============================] - 0s 7ms/step\n",
            "              precision    recall  f1-score   support\n",
            "\n",
            "           0       0.82      0.80      0.81       874\n",
            "           1       0.74      0.76      0.75       649\n",
            "\n",
            "    accuracy                           0.78      1523\n",
            "   macro avg       0.78      0.78      0.78      1523\n",
            "weighted avg       0.78      0.78      0.78      1523\n",
            "\n"
          ]
        }
      ],
      "source": [
        "import pandas as pd\n",
        "import numpy as np\n",
        "from sklearn.model_selection import train_test_split\n",
        "from sklearn.feature_extraction.text import TfidfVectorizer\n",
        "from tensorflow.keras.models import Sequential\n",
        "from tensorflow.keras.layers import Dense, Dropout\n",
        "from tensorflow.keras.optimizers import Adam\n",
        "from tensorflow.keras.callbacks import EarlyStopping\n",
        "from tensorflow.keras.utils import to_categorical\n",
        "from sklearn.metrics import classification_report\n",
        "\n",
        "# Preprocessing function\n",
        "def preprocess_text(text):\n",
        "    # Convert text to lowercase\n",
        "    text = text.lower()\n",
        "    # Remove punctuation, URLs, mentions, tags and numbers\n",
        "    text = re.sub(r'http\\S+', '', text) # Remove URLs\n",
        "    text = re.sub(r'@\\w+', '', text) # Remove mentions\n",
        "    text = re.sub(r'#', '', text) # Remove hashtags\n",
        "    text = re.sub(r'\\d+', '', text) # Remove numbers\n",
        "    text = re.sub(r'[^\\w\\s]', '', text) # Remove punctuation\n",
        "    # Tokenize into words\n",
        "    words = nltk.word_tokenize(text)\n",
        "    # Remove stopwords\n",
        "    words = [word for word in words if word not in stopwords.words('english')]\n",
        "    # Join words back into one string separated by space\n",
        "    text = ' '.join(words)\n",
        "    return text\n",
        "\n",
        "# Apply preprocessing to the text column\n",
        "train_data['text_cleaned'] = train_data['text'].apply(preprocess_text)\n",
        "\n",
        "# Initialize TF-IDF Vectorizer\n",
        "tfidf_vectorizer = TfidfVectorizer()\n",
        "\n",
        "# Vectorize the text using TF-IDF\n",
        "X = tfidf_vectorizer.fit_transform(train_data['text_cleaned'])\n",
        "y = train_data['target'].values\n",
        "\n",
        "# Convert labels to categorical (one-hot encoding)\n",
        "y_categorical = to_categorical(y)\n",
        "\n",
        "# Split the dataset into training and validation sets\n",
        "X_train, X_val, y_train, y_val = train_test_split(X.toarray(), y_categorical, test_size=0.2, random_state=42)\n",
        "\n",
        "# Define the neural network model architecture\n",
        "model = Sequential()\n",
        "model.add(Dense(128, activation='relu', input_shape=(X_train.shape[1],)))\n",
        "model.add(Dropout(0.5))\n",
        "model.add(Dense(64, activation='relu'))\n",
        "model.add(Dropout(0.5))\n",
        "model.add(Dense(y_categorical.shape[1], activation='softmax'))\n",
        "\n",
        "# Define the optimizer with the chosen learning rate\n",
        "optimizer = Adam(learning_rate=0.001)\n",
        "\n",
        "# Compile the model\n",
        "model.compile(optimizer=optimizer, loss='categorical_crossentropy', metrics=['accuracy'])\n",
        "\n",
        "# Early stopping callback to prevent overfitting\n",
        "early_stopping = EarlyStopping(monitor='val_loss', patience=3, restore_best_weights=True)\n",
        "\n",
        "# Train the model\n",
        "history = model.fit(X_train, y_train, batch_size=64, epochs=50,\n",
        "                    validation_data=(X_val, y_val), callbacks=[early_stopping], verbose=1)\n",
        "\n",
        "# Evaluate the model\n",
        "y_val_pred = model.predict(X_val)\n",
        "y_val_pred_classes = np.argmax(y_val_pred, axis=1)\n",
        "y_val_true_classes = np.argmax(y_val, axis=1)\n",
        "\n",
        "print(classification_report(y_val_true_classes, y_val_pred_classes))\n"
      ]
    },
    {
      "cell_type": "code",
      "source": [
        "import pandas as pd\n",
        "import numpy as np\n",
        "from sklearn.feature_extraction.text import TfidfVectorizer\n",
        "from tensorflow.keras.models import Sequential\n",
        "from tensorflow.keras.layers import Dense, Dropout\n",
        "from tensorflow.keras.optimizers import Adam\n",
        "from tensorflow.keras.callbacks import EarlyStopping\n",
        "from tensorflow.keras.utils import to_categorical\n",
        "\n",
        "# Preprocessing function\n",
        "def preprocess_text(text):\n",
        "    # Convert text to lowercase\n",
        "    text = text.lower()\n",
        "    # Remove punctuation, URLs, mentions, tags and numbers\n",
        "    text = re.sub(r'http\\S+', '', text) # Remove URLs\n",
        "    text = re.sub(r'@\\w+', '', text) # Remove mentions\n",
        "    text = re.sub(r'#', '', text) # Remove hashtags\n",
        "    text = re.sub(r'\\d+', '', text) # Remove numbers\n",
        "    text = re.sub(r'[^\\w\\s]', '', text) # Remove punctuation\n",
        "    # Tokenize into words\n",
        "    words = nltk.word_tokenize(text)\n",
        "    # Remove stopwords\n",
        "    words = [word for word in words if word not in stopwords.words('english')]\n",
        "    # Join words back into one string separated by space\n",
        "    text = ' '.join(words)\n",
        "    return text\n",
        "\n",
        "# Load and preprocess data\n",
        "train_data = pd.read_csv('train.csv')\n",
        "train_data['text_cleaned'] = train_data['text'].apply(preprocess_text)\n",
        "tfidf_vectorizer = TfidfVectorizer()\n",
        "X_train = tfidf_vectorizer.fit_transform(train_data['text_cleaned']).toarray()\n",
        "y_train = train_data['target'].values\n",
        "y_train_categorical = to_categorical(y_train)\n",
        "\n",
        "# Train model setup\n",
        "model = Sequential([\n",
        "    Dense(128, activation='relu', input_shape=(X_train.shape[1],)),\n",
        "    Dropout(0.5),\n",
        "    Dense(64, activation='relu'),\n",
        "    Dropout(0.5),\n",
        "    Dense(y_train_categorical.shape[1], activation='softmax')\n",
        "])\n",
        "optimizer = Adam(learning_rate=0.001)\n",
        "model.compile(optimizer=optimizer, loss='categorical_crossentropy', metrics=['accuracy'])\n",
        "early_stopping = EarlyStopping(monitor='val_loss', patience=3, restore_best_weights=True)\n",
        "model.fit(X_train, y_train_categorical, batch_size=64, epochs=50, callbacks=[early_stopping], verbose=1)\n",
        "\n",
        "# Prepare test data\n",
        "test_data = pd.read_csv('test.csv')\n",
        "test_data['text_cleaned'] = test_data['text'].apply(preprocess_text)\n",
        "X_test = tfidf_vectorizer.transform(test_data['text_cleaned']).toarray()\n",
        "\n",
        "# Predict the test data\n",
        "y_test_pred = model.predict(X_test)\n",
        "y_test_pred_classes = np.argmax(y_test_pred, axis=1)\n",
        "\n",
        "# Save predictions\n",
        "submission_df = pd.DataFrame({\n",
        "    'id': test_data['id'],\n",
        "    'target': y_test_pred_classes\n",
        "})\n",
        "submission_df.to_csv('submission.csv', index=False)"
      ],
      "metadata": {
        "colab": {
          "base_uri": "https://localhost:8080/"
        },
        "id": "XzecXqUpfm_C",
        "outputId": "023a6301-a7b1-4158-ed27-3c94b366a6b0"
      },
      "execution_count": null,
      "outputs": [
        {
          "output_type": "stream",
          "name": "stdout",
          "text": [
            "Epoch 1/50\n",
            "118/119 [============================>.] - ETA: 0s - loss: 0.6145 - accuracy: 0.6514"
          ]
        },
        {
          "output_type": "stream",
          "name": "stderr",
          "text": [
            "WARNING:tensorflow:Early stopping conditioned on metric `val_loss` which is not available. Available metrics are: loss,accuracy\n"
          ]
        },
        {
          "output_type": "stream",
          "name": "stdout",
          "text": [
            "\b\b\b\b\b\b\b\b\b\b\b\b\b\b\b\b\b\b\b\b\b\b\b\b\b\b\b\b\b\b\b\b\b\b\b\b\b\b\b\b\b\b\b\b\b\b\b\b\b\b\b\b\b\b\b\b\b\b\b\b\b\b\b\b\b\b\b\b\b\b\b\b\b\b\b\b\b\b\b\b\b\b\b\b\r119/119 [==============================] - 6s 39ms/step - loss: 0.6135 - accuracy: 0.6520\n",
            "Epoch 2/50\n",
            "119/119 [==============================] - ETA: 0s - loss: 0.3632 - accuracy: 0.8528"
          ]
        },
        {
          "output_type": "stream",
          "name": "stderr",
          "text": [
            "WARNING:tensorflow:Early stopping conditioned on metric `val_loss` which is not available. Available metrics are: loss,accuracy\n"
          ]
        },
        {
          "output_type": "stream",
          "name": "stdout",
          "text": [
            "\b\b\b\b\b\b\b\b\b\b\b\b\b\b\b\b\b\b\b\b\b\b\b\b\b\b\b\b\b\b\b\b\b\b\b\b\b\b\b\b\b\b\b\b\b\b\b\b\b\b\b\b\b\b\b\b\b\b\b\b\b\b\b\b\b\b\b\b\b\b\b\b\b\b\b\b\b\b\b\b\b\b\b\b\r119/119 [==============================] - 4s 30ms/step - loss: 0.3632 - accuracy: 0.8528\n",
            "Epoch 3/50\n",
            "119/119 [==============================] - ETA: 0s - loss: 0.2241 - accuracy: 0.9167"
          ]
        },
        {
          "output_type": "stream",
          "name": "stderr",
          "text": [
            "WARNING:tensorflow:Early stopping conditioned on metric `val_loss` which is not available. Available metrics are: loss,accuracy\n"
          ]
        },
        {
          "output_type": "stream",
          "name": "stdout",
          "text": [
            "\b\b\b\b\b\b\b\b\b\b\b\b\b\b\b\b\b\b\b\b\b\b\b\b\b\b\b\b\b\b\b\b\b\b\b\b\b\b\b\b\b\b\b\b\b\b\b\b\b\b\b\b\b\b\b\b\b\b\b\b\b\b\b\b\b\b\b\b\b\b\b\b\b\b\b\b\b\b\b\b\b\b\b\b\r119/119 [==============================] - 4s 30ms/step - loss: 0.2241 - accuracy: 0.9167\n",
            "Epoch 4/50\n",
            "119/119 [==============================] - ETA: 0s - loss: 0.1442 - accuracy: 0.9503"
          ]
        },
        {
          "output_type": "stream",
          "name": "stderr",
          "text": [
            "WARNING:tensorflow:Early stopping conditioned on metric `val_loss` which is not available. Available metrics are: loss,accuracy\n"
          ]
        },
        {
          "output_type": "stream",
          "name": "stdout",
          "text": [
            "\b\b\b\b\b\b\b\b\b\b\b\b\b\b\b\b\b\b\b\b\b\b\b\b\b\b\b\b\b\b\b\b\b\b\b\b\b\b\b\b\b\b\b\b\b\b\b\b\b\b\b\b\b\b\b\b\b\b\b\b\b\b\b\b\b\b\b\b\b\b\b\b\b\b\b\b\b\b\b\b\b\b\b\b\r119/119 [==============================] - 4s 38ms/step - loss: 0.1442 - accuracy: 0.9503\n",
            "Epoch 5/50\n",
            "119/119 [==============================] - ETA: 0s - loss: 0.1067 - accuracy: 0.9649"
          ]
        },
        {
          "output_type": "stream",
          "name": "stderr",
          "text": [
            "WARNING:tensorflow:Early stopping conditioned on metric `val_loss` which is not available. Available metrics are: loss,accuracy\n"
          ]
        },
        {
          "output_type": "stream",
          "name": "stdout",
          "text": [
            "\b\b\b\b\b\b\b\b\b\b\b\b\b\b\b\b\b\b\b\b\b\b\b\b\b\b\b\b\b\b\b\b\b\b\b\b\b\b\b\b\b\b\b\b\b\b\b\b\b\b\b\b\b\b\b\b\b\b\b\b\b\b\b\b\b\b\b\b\b\b\b\b\b\b\b\b\b\b\b\b\b\b\b\b\r119/119 [==============================] - 4s 30ms/step - loss: 0.1067 - accuracy: 0.9649\n",
            "Epoch 6/50\n",
            "119/119 [==============================] - ETA: 0s - loss: 0.0844 - accuracy: 0.9711"
          ]
        },
        {
          "output_type": "stream",
          "name": "stderr",
          "text": [
            "WARNING:tensorflow:Early stopping conditioned on metric `val_loss` which is not available. Available metrics are: loss,accuracy\n"
          ]
        },
        {
          "output_type": "stream",
          "name": "stdout",
          "text": [
            "\b\b\b\b\b\b\b\b\b\b\b\b\b\b\b\b\b\b\b\b\b\b\b\b\b\b\b\b\b\b\b\b\b\b\b\b\b\b\b\b\b\b\b\b\b\b\b\b\b\b\b\b\b\b\b\b\b\b\b\b\b\b\b\b\b\b\b\b\b\b\b\b\b\b\b\b\b\b\b\b\b\b\b\b\r119/119 [==============================] - 4s 30ms/step - loss: 0.0844 - accuracy: 0.9711\n",
            "Epoch 7/50\n",
            "118/119 [============================>.] - ETA: 0s - loss: 0.0765 - accuracy: 0.9729"
          ]
        },
        {
          "output_type": "stream",
          "name": "stderr",
          "text": [
            "WARNING:tensorflow:Early stopping conditioned on metric `val_loss` which is not available. Available metrics are: loss,accuracy\n"
          ]
        },
        {
          "output_type": "stream",
          "name": "stdout",
          "text": [
            "\b\b\b\b\b\b\b\b\b\b\b\b\b\b\b\b\b\b\b\b\b\b\b\b\b\b\b\b\b\b\b\b\b\b\b\b\b\b\b\b\b\b\b\b\b\b\b\b\b\b\b\b\b\b\b\b\b\b\b\b\b\b\b\b\b\b\b\b\b\b\b\b\b\b\b\b\b\b\b\b\b\b\b\b\r119/119 [==============================] - 4s 37ms/step - loss: 0.0763 - accuracy: 0.9729\n",
            "Epoch 8/50\n",
            "119/119 [==============================] - ETA: 0s - loss: 0.0659 - accuracy: 0.9762"
          ]
        },
        {
          "output_type": "stream",
          "name": "stderr",
          "text": [
            "WARNING:tensorflow:Early stopping conditioned on metric `val_loss` which is not available. Available metrics are: loss,accuracy\n"
          ]
        },
        {
          "output_type": "stream",
          "name": "stdout",
          "text": [
            "\b\b\b\b\b\b\b\b\b\b\b\b\b\b\b\b\b\b\b\b\b\b\b\b\b\b\b\b\b\b\b\b\b\b\b\b\b\b\b\b\b\b\b\b\b\b\b\b\b\b\b\b\b\b\b\b\b\b\b\b\b\b\b\b\b\b\b\b\b\b\b\b\b\b\b\b\b\b\b\b\b\b\b\b\r119/119 [==============================] - 4s 30ms/step - loss: 0.0659 - accuracy: 0.9762\n",
            "Epoch 9/50\n",
            "119/119 [==============================] - ETA: 0s - loss: 0.0643 - accuracy: 0.9754"
          ]
        },
        {
          "output_type": "stream",
          "name": "stderr",
          "text": [
            "WARNING:tensorflow:Early stopping conditioned on metric `val_loss` which is not available. Available metrics are: loss,accuracy\n"
          ]
        },
        {
          "output_type": "stream",
          "name": "stdout",
          "text": [
            "\b\b\b\b\b\b\b\b\b\b\b\b\b\b\b\b\b\b\b\b\b\b\b\b\b\b\b\b\b\b\b\b\b\b\b\b\b\b\b\b\b\b\b\b\b\b\b\b\b\b\b\b\b\b\b\b\b\b\b\b\b\b\b\b\b\b\b\b\b\b\b\b\b\b\b\b\b\b\b\b\b\b\b\b\r119/119 [==============================] - 4s 30ms/step - loss: 0.0643 - accuracy: 0.9754\n",
            "Epoch 10/50\n",
            "119/119 [==============================] - ETA: 0s - loss: 0.0571 - accuracy: 0.9791"
          ]
        },
        {
          "output_type": "stream",
          "name": "stderr",
          "text": [
            "WARNING:tensorflow:Early stopping conditioned on metric `val_loss` which is not available. Available metrics are: loss,accuracy\n"
          ]
        },
        {
          "output_type": "stream",
          "name": "stdout",
          "text": [
            "\b\b\b\b\b\b\b\b\b\b\b\b\b\b\b\b\b\b\b\b\b\b\b\b\b\b\b\b\b\b\b\b\b\b\b\b\b\b\b\b\b\b\b\b\b\b\b\b\b\b\b\b\b\b\b\b\b\b\b\b\b\b\b\b\b\b\b\b\b\b\b\b\b\b\b\b\b\b\b\b\b\b\b\b\r119/119 [==============================] - 4s 33ms/step - loss: 0.0571 - accuracy: 0.9791\n",
            "Epoch 11/50\n",
            "119/119 [==============================] - ETA: 0s - loss: 0.0534 - accuracy: 0.9779"
          ]
        },
        {
          "output_type": "stream",
          "name": "stderr",
          "text": [
            "WARNING:tensorflow:Early stopping conditioned on metric `val_loss` which is not available. Available metrics are: loss,accuracy\n"
          ]
        },
        {
          "output_type": "stream",
          "name": "stdout",
          "text": [
            "\b\b\b\b\b\b\b\b\b\b\b\b\b\b\b\b\b\b\b\b\b\b\b\b\b\b\b\b\b\b\b\b\b\b\b\b\b\b\b\b\b\b\b\b\b\b\b\b\b\b\b\b\b\b\b\b\b\b\b\b\b\b\b\b\b\b\b\b\b\b\b\b\b\b\b\b\b\b\b\b\b\b\b\b\r119/119 [==============================] - 4s 35ms/step - loss: 0.0534 - accuracy: 0.9779\n",
            "Epoch 12/50\n",
            "119/119 [==============================] - ETA: 0s - loss: 0.0511 - accuracy: 0.9811"
          ]
        },
        {
          "output_type": "stream",
          "name": "stderr",
          "text": [
            "WARNING:tensorflow:Early stopping conditioned on metric `val_loss` which is not available. Available metrics are: loss,accuracy\n"
          ]
        },
        {
          "output_type": "stream",
          "name": "stdout",
          "text": [
            "\b\b\b\b\b\b\b\b\b\b\b\b\b\b\b\b\b\b\b\b\b\b\b\b\b\b\b\b\b\b\b\b\b\b\b\b\b\b\b\b\b\b\b\b\b\b\b\b\b\b\b\b\b\b\b\b\b\b\b\b\b\b\b\b\b\b\b\b\b\b\b\b\b\b\b\b\b\b\b\b\b\b\b\b\r119/119 [==============================] - 4s 30ms/step - loss: 0.0511 - accuracy: 0.9811\n",
            "Epoch 13/50\n",
            "119/119 [==============================] - ETA: 0s - loss: 0.0512 - accuracy: 0.9792"
          ]
        },
        {
          "output_type": "stream",
          "name": "stderr",
          "text": [
            "WARNING:tensorflow:Early stopping conditioned on metric `val_loss` which is not available. Available metrics are: loss,accuracy\n"
          ]
        },
        {
          "output_type": "stream",
          "name": "stdout",
          "text": [
            "\b\b\b\b\b\b\b\b\b\b\b\b\b\b\b\b\b\b\b\b\b\b\b\b\b\b\b\b\b\b\b\b\b\b\b\b\b\b\b\b\b\b\b\b\b\b\b\b\b\b\b\b\b\b\b\b\b\b\b\b\b\b\b\b\b\b\b\b\b\b\b\b\b\b\b\b\b\b\b\b\b\b\b\b\r119/119 [==============================] - 3s 29ms/step - loss: 0.0512 - accuracy: 0.9792\n",
            "Epoch 14/50\n",
            "119/119 [==============================] - ETA: 0s - loss: 0.0487 - accuracy: 0.9799"
          ]
        },
        {
          "output_type": "stream",
          "name": "stderr",
          "text": [
            "WARNING:tensorflow:Early stopping conditioned on metric `val_loss` which is not available. Available metrics are: loss,accuracy\n"
          ]
        },
        {
          "output_type": "stream",
          "name": "stdout",
          "text": [
            "\b\b\b\b\b\b\b\b\b\b\b\b\b\b\b\b\b\b\b\b\b\b\b\b\b\b\b\b\b\b\b\b\b\b\b\b\b\b\b\b\b\b\b\b\b\b\b\b\b\b\b\b\b\b\b\b\b\b\b\b\b\b\b\b\b\b\b\b\b\b\b\b\b\b\b\b\b\b\b\b\b\b\b\b\r119/119 [==============================] - 4s 37ms/step - loss: 0.0487 - accuracy: 0.9799\n",
            "Epoch 15/50\n",
            "119/119 [==============================] - ETA: 0s - loss: 0.0467 - accuracy: 0.9810"
          ]
        },
        {
          "output_type": "stream",
          "name": "stderr",
          "text": [
            "WARNING:tensorflow:Early stopping conditioned on metric `val_loss` which is not available. Available metrics are: loss,accuracy\n"
          ]
        },
        {
          "output_type": "stream",
          "name": "stdout",
          "text": [
            "\b\b\b\b\b\b\b\b\b\b\b\b\b\b\b\b\b\b\b\b\b\b\b\b\b\b\b\b\b\b\b\b\b\b\b\b\b\b\b\b\b\b\b\b\b\b\b\b\b\b\b\b\b\b\b\b\b\b\b\b\b\b\b\b\b\b\b\b\b\b\b\b\b\b\b\b\b\b\b\b\b\b\b\b\r119/119 [==============================] - 4s 30ms/step - loss: 0.0467 - accuracy: 0.9810\n",
            "Epoch 16/50\n",
            "119/119 [==============================] - ETA: 0s - loss: 0.0490 - accuracy: 0.9790"
          ]
        },
        {
          "output_type": "stream",
          "name": "stderr",
          "text": [
            "WARNING:tensorflow:Early stopping conditioned on metric `val_loss` which is not available. Available metrics are: loss,accuracy\n"
          ]
        },
        {
          "output_type": "stream",
          "name": "stdout",
          "text": [
            "\b\b\b\b\b\b\b\b\b\b\b\b\b\b\b\b\b\b\b\b\b\b\b\b\b\b\b\b\b\b\b\b\b\b\b\b\b\b\b\b\b\b\b\b\b\b\b\b\b\b\b\b\b\b\b\b\b\b\b\b\b\b\b\b\b\b\b\b\b\b\b\b\b\b\b\b\b\b\b\b\b\b\b\b\r119/119 [==============================] - 4s 30ms/step - loss: 0.0490 - accuracy: 0.9790\n",
            "Epoch 17/50\n",
            "119/119 [==============================] - ETA: 0s - loss: 0.0428 - accuracy: 0.9824"
          ]
        },
        {
          "output_type": "stream",
          "name": "stderr",
          "text": [
            "WARNING:tensorflow:Early stopping conditioned on metric `val_loss` which is not available. Available metrics are: loss,accuracy\n"
          ]
        },
        {
          "output_type": "stream",
          "name": "stdout",
          "text": [
            "\b\b\b\b\b\b\b\b\b\b\b\b\b\b\b\b\b\b\b\b\b\b\b\b\b\b\b\b\b\b\b\b\b\b\b\b\b\b\b\b\b\b\b\b\b\b\b\b\b\b\b\b\b\b\b\b\b\b\b\b\b\b\b\b\b\b\b\b\b\b\b\b\b\b\b\b\b\b\b\b\b\b\b\b\r119/119 [==============================] - 4s 36ms/step - loss: 0.0428 - accuracy: 0.9824\n",
            "Epoch 18/50\n",
            "119/119 [==============================] - ETA: 0s - loss: 0.0434 - accuracy: 0.9811"
          ]
        },
        {
          "output_type": "stream",
          "name": "stderr",
          "text": [
            "WARNING:tensorflow:Early stopping conditioned on metric `val_loss` which is not available. Available metrics are: loss,accuracy\n"
          ]
        },
        {
          "output_type": "stream",
          "name": "stdout",
          "text": [
            "\b\b\b\b\b\b\b\b\b\b\b\b\b\b\b\b\b\b\b\b\b\b\b\b\b\b\b\b\b\b\b\b\b\b\b\b\b\b\b\b\b\b\b\b\b\b\b\b\b\b\b\b\b\b\b\b\b\b\b\b\b\b\b\b\b\b\b\b\b\b\b\b\b\b\b\b\b\b\b\b\b\b\b\b\r119/119 [==============================] - 4s 30ms/step - loss: 0.0434 - accuracy: 0.9811\n",
            "Epoch 19/50\n",
            "119/119 [==============================] - ETA: 0s - loss: 0.0461 - accuracy: 0.9800"
          ]
        },
        {
          "output_type": "stream",
          "name": "stderr",
          "text": [
            "WARNING:tensorflow:Early stopping conditioned on metric `val_loss` which is not available. Available metrics are: loss,accuracy\n"
          ]
        },
        {
          "output_type": "stream",
          "name": "stdout",
          "text": [
            "\b\b\b\b\b\b\b\b\b\b\b\b\b\b\b\b\b\b\b\b\b\b\b\b\b\b\b\b\b\b\b\b\b\b\b\b\b\b\b\b\b\b\b\b\b\b\b\b\b\b\b\b\b\b\b\b\b\b\b\b\b\b\b\b\b\b\b\b\b\b\b\b\b\b\b\b\b\b\b\b\b\b\b\b\r119/119 [==============================] - 4s 30ms/step - loss: 0.0461 - accuracy: 0.9800\n",
            "Epoch 20/50\n",
            "119/119 [==============================] - ETA: 0s - loss: 0.0402 - accuracy: 0.9841"
          ]
        },
        {
          "output_type": "stream",
          "name": "stderr",
          "text": [
            "WARNING:tensorflow:Early stopping conditioned on metric `val_loss` which is not available. Available metrics are: loss,accuracy\n"
          ]
        },
        {
          "output_type": "stream",
          "name": "stdout",
          "text": [
            "\b\b\b\b\b\b\b\b\b\b\b\b\b\b\b\b\b\b\b\b\b\b\b\b\b\b\b\b\b\b\b\b\b\b\b\b\b\b\b\b\b\b\b\b\b\b\b\b\b\b\b\b\b\b\b\b\b\b\b\b\b\b\b\b\b\b\b\b\b\b\b\b\b\b\b\b\b\b\b\b\b\b\b\b\r119/119 [==============================] - 4s 31ms/step - loss: 0.0402 - accuracy: 0.9841\n",
            "Epoch 21/50\n",
            "119/119 [==============================] - ETA: 0s - loss: 0.0400 - accuracy: 0.9813"
          ]
        },
        {
          "output_type": "stream",
          "name": "stderr",
          "text": [
            "WARNING:tensorflow:Early stopping conditioned on metric `val_loss` which is not available. Available metrics are: loss,accuracy\n"
          ]
        },
        {
          "output_type": "stream",
          "name": "stdout",
          "text": [
            "\b\b\b\b\b\b\b\b\b\b\b\b\b\b\b\b\b\b\b\b\b\b\b\b\b\b\b\b\b\b\b\b\b\b\b\b\b\b\b\b\b\b\b\b\b\b\b\b\b\b\b\b\b\b\b\b\b\b\b\b\b\b\b\b\b\b\b\b\b\b\b\b\b\b\b\b\b\b\b\b\b\b\b\b\r119/119 [==============================] - 5s 39ms/step - loss: 0.0400 - accuracy: 0.9813\n",
            "Epoch 22/50\n",
            "119/119 [==============================] - ETA: 0s - loss: 0.0390 - accuracy: 0.9804"
          ]
        },
        {
          "output_type": "stream",
          "name": "stderr",
          "text": [
            "WARNING:tensorflow:Early stopping conditioned on metric `val_loss` which is not available. Available metrics are: loss,accuracy\n"
          ]
        },
        {
          "output_type": "stream",
          "name": "stdout",
          "text": [
            "\b\b\b\b\b\b\b\b\b\b\b\b\b\b\b\b\b\b\b\b\b\b\b\b\b\b\b\b\b\b\b\b\b\b\b\b\b\b\b\b\b\b\b\b\b\b\b\b\b\b\b\b\b\b\b\b\b\b\b\b\b\b\b\b\b\b\b\b\b\b\b\b\b\b\b\b\b\b\b\b\b\b\b\b\r119/119 [==============================] - 4s 30ms/step - loss: 0.0390 - accuracy: 0.9804\n",
            "Epoch 23/50\n",
            "119/119 [==============================] - ETA: 0s - loss: 0.0389 - accuracy: 0.9825"
          ]
        },
        {
          "output_type": "stream",
          "name": "stderr",
          "text": [
            "WARNING:tensorflow:Early stopping conditioned on metric `val_loss` which is not available. Available metrics are: loss,accuracy\n"
          ]
        },
        {
          "output_type": "stream",
          "name": "stdout",
          "text": [
            "\b\b\b\b\b\b\b\b\b\b\b\b\b\b\b\b\b\b\b\b\b\b\b\b\b\b\b\b\b\b\b\b\b\b\b\b\b\b\b\b\b\b\b\b\b\b\b\b\b\b\b\b\b\b\b\b\b\b\b\b\b\b\b\b\b\b\b\b\b\b\b\b\b\b\b\b\b\b\b\b\b\b\b\b\r119/119 [==============================] - 4s 29ms/step - loss: 0.0389 - accuracy: 0.9825\n",
            "Epoch 24/50\n",
            "119/119 [==============================] - ETA: 0s - loss: 0.0375 - accuracy: 0.9823"
          ]
        },
        {
          "output_type": "stream",
          "name": "stderr",
          "text": [
            "WARNING:tensorflow:Early stopping conditioned on metric `val_loss` which is not available. Available metrics are: loss,accuracy\n"
          ]
        },
        {
          "output_type": "stream",
          "name": "stdout",
          "text": [
            "\b\b\b\b\b\b\b\b\b\b\b\b\b\b\b\b\b\b\b\b\b\b\b\b\b\b\b\b\b\b\b\b\b\b\b\b\b\b\b\b\b\b\b\b\b\b\b\b\b\b\b\b\b\b\b\b\b\b\b\b\b\b\b\b\b\b\b\b\b\b\b\b\b\b\b\b\b\b\b\b\b\b\b\b\r119/119 [==============================] - 4s 37ms/step - loss: 0.0375 - accuracy: 0.9823\n",
            "Epoch 25/50\n",
            "119/119 [==============================] - ETA: 0s - loss: 0.0382 - accuracy: 0.9827"
          ]
        },
        {
          "output_type": "stream",
          "name": "stderr",
          "text": [
            "WARNING:tensorflow:Early stopping conditioned on metric `val_loss` which is not available. Available metrics are: loss,accuracy\n"
          ]
        },
        {
          "output_type": "stream",
          "name": "stdout",
          "text": [
            "\b\b\b\b\b\b\b\b\b\b\b\b\b\b\b\b\b\b\b\b\b\b\b\b\b\b\b\b\b\b\b\b\b\b\b\b\b\b\b\b\b\b\b\b\b\b\b\b\b\b\b\b\b\b\b\b\b\b\b\b\b\b\b\b\b\b\b\b\b\b\b\b\b\b\b\b\b\b\b\b\b\b\b\b\r119/119 [==============================] - 4s 30ms/step - loss: 0.0382 - accuracy: 0.9827\n",
            "Epoch 26/50\n",
            "119/119 [==============================] - ETA: 0s - loss: 0.0351 - accuracy: 0.9832"
          ]
        },
        {
          "output_type": "stream",
          "name": "stderr",
          "text": [
            "WARNING:tensorflow:Early stopping conditioned on metric `val_loss` which is not available. Available metrics are: loss,accuracy\n"
          ]
        },
        {
          "output_type": "stream",
          "name": "stdout",
          "text": [
            "\b\b\b\b\b\b\b\b\b\b\b\b\b\b\b\b\b\b\b\b\b\b\b\b\b\b\b\b\b\b\b\b\b\b\b\b\b\b\b\b\b\b\b\b\b\b\b\b\b\b\b\b\b\b\b\b\b\b\b\b\b\b\b\b\b\b\b\b\b\b\b\b\b\b\b\b\b\b\b\b\b\b\b\b\r119/119 [==============================] - 4s 30ms/step - loss: 0.0351 - accuracy: 0.9832\n",
            "Epoch 27/50\n",
            "118/119 [============================>.] - ETA: 0s - loss: 0.0355 - accuracy: 0.9831"
          ]
        },
        {
          "output_type": "stream",
          "name": "stderr",
          "text": [
            "WARNING:tensorflow:Early stopping conditioned on metric `val_loss` which is not available. Available metrics are: loss,accuracy\n"
          ]
        },
        {
          "output_type": "stream",
          "name": "stdout",
          "text": [
            "\b\b\b\b\b\b\b\b\b\b\b\b\b\b\b\b\b\b\b\b\b\b\b\b\b\b\b\b\b\b\b\b\b\b\b\b\b\b\b\b\b\b\b\b\b\b\b\b\b\b\b\b\b\b\b\b\b\b\b\b\b\b\b\b\b\b\b\b\b\b\b\b\b\b\b\b\b\b\b\b\b\b\b\b\r119/119 [==============================] - 4s 36ms/step - loss: 0.0353 - accuracy: 0.9832\n",
            "Epoch 28/50\n",
            "119/119 [==============================] - ETA: 0s - loss: 0.0346 - accuracy: 0.9828"
          ]
        },
        {
          "output_type": "stream",
          "name": "stderr",
          "text": [
            "WARNING:tensorflow:Early stopping conditioned on metric `val_loss` which is not available. Available metrics are: loss,accuracy\n"
          ]
        },
        {
          "output_type": "stream",
          "name": "stdout",
          "text": [
            "\b\b\b\b\b\b\b\b\b\b\b\b\b\b\b\b\b\b\b\b\b\b\b\b\b\b\b\b\b\b\b\b\b\b\b\b\b\b\b\b\b\b\b\b\b\b\b\b\b\b\b\b\b\b\b\b\b\b\b\b\b\b\b\b\b\b\b\b\b\b\b\b\b\b\b\b\b\b\b\b\b\b\b\b\r119/119 [==============================] - 4s 30ms/step - loss: 0.0346 - accuracy: 0.9828\n",
            "Epoch 29/50\n",
            "119/119 [==============================] - ETA: 0s - loss: 0.0358 - accuracy: 0.9819"
          ]
        },
        {
          "output_type": "stream",
          "name": "stderr",
          "text": [
            "WARNING:tensorflow:Early stopping conditioned on metric `val_loss` which is not available. Available metrics are: loss,accuracy\n"
          ]
        },
        {
          "output_type": "stream",
          "name": "stdout",
          "text": [
            "\b\b\b\b\b\b\b\b\b\b\b\b\b\b\b\b\b\b\b\b\b\b\b\b\b\b\b\b\b\b\b\b\b\b\b\b\b\b\b\b\b\b\b\b\b\b\b\b\b\b\b\b\b\b\b\b\b\b\b\b\b\b\b\b\b\b\b\b\b\b\b\b\b\b\b\b\b\b\b\b\b\b\b\b\r119/119 [==============================] - 3s 29ms/step - loss: 0.0358 - accuracy: 0.9819\n",
            "Epoch 30/50\n",
            "118/119 [============================>.] - ETA: 0s - loss: 0.0340 - accuracy: 0.9848"
          ]
        },
        {
          "output_type": "stream",
          "name": "stderr",
          "text": [
            "WARNING:tensorflow:Early stopping conditioned on metric `val_loss` which is not available. Available metrics are: loss,accuracy\n"
          ]
        },
        {
          "output_type": "stream",
          "name": "stdout",
          "text": [
            "\b\b\b\b\b\b\b\b\b\b\b\b\b\b\b\b\b\b\b\b\b\b\b\b\b\b\b\b\b\b\b\b\b\b\b\b\b\b\b\b\b\b\b\b\b\b\b\b\b\b\b\b\b\b\b\b\b\b\b\b\b\b\b\b\b\b\b\b\b\b\b\b\b\b\b\b\b\b\b\b\b\b\b\b\r119/119 [==============================] - 4s 31ms/step - loss: 0.0341 - accuracy: 0.9848\n",
            "Epoch 31/50\n",
            "119/119 [==============================] - ETA: 0s - loss: 0.0358 - accuracy: 0.9838"
          ]
        },
        {
          "output_type": "stream",
          "name": "stderr",
          "text": [
            "WARNING:tensorflow:Early stopping conditioned on metric `val_loss` which is not available. Available metrics are: loss,accuracy\n"
          ]
        },
        {
          "output_type": "stream",
          "name": "stdout",
          "text": [
            "\b\b\b\b\b\b\b\b\b\b\b\b\b\b\b\b\b\b\b\b\b\b\b\b\b\b\b\b\b\b\b\b\b\b\b\b\b\b\b\b\b\b\b\b\b\b\b\b\b\b\b\b\b\b\b\b\b\b\b\b\b\b\b\b\b\b\b\b\b\b\b\b\b\b\b\b\b\b\b\b\b\b\b\b\r119/119 [==============================] - 4s 36ms/step - loss: 0.0358 - accuracy: 0.9838\n",
            "Epoch 32/50\n",
            "119/119 [==============================] - ETA: 0s - loss: 0.0333 - accuracy: 0.9846"
          ]
        },
        {
          "output_type": "stream",
          "name": "stderr",
          "text": [
            "WARNING:tensorflow:Early stopping conditioned on metric `val_loss` which is not available. Available metrics are: loss,accuracy\n"
          ]
        },
        {
          "output_type": "stream",
          "name": "stdout",
          "text": [
            "\b\b\b\b\b\b\b\b\b\b\b\b\b\b\b\b\b\b\b\b\b\b\b\b\b\b\b\b\b\b\b\b\b\b\b\b\b\b\b\b\b\b\b\b\b\b\b\b\b\b\b\b\b\b\b\b\b\b\b\b\b\b\b\b\b\b\b\b\b\b\b\b\b\b\b\b\b\b\b\b\b\b\b\b\r119/119 [==============================] - 4s 30ms/step - loss: 0.0333 - accuracy: 0.9846\n",
            "Epoch 33/50\n",
            "119/119 [==============================] - ETA: 0s - loss: 0.0348 - accuracy: 0.9816"
          ]
        },
        {
          "output_type": "stream",
          "name": "stderr",
          "text": [
            "WARNING:tensorflow:Early stopping conditioned on metric `val_loss` which is not available. Available metrics are: loss,accuracy\n"
          ]
        },
        {
          "output_type": "stream",
          "name": "stdout",
          "text": [
            "\b\b\b\b\b\b\b\b\b\b\b\b\b\b\b\b\b\b\b\b\b\b\b\b\b\b\b\b\b\b\b\b\b\b\b\b\b\b\b\b\b\b\b\b\b\b\b\b\b\b\b\b\b\b\b\b\b\b\b\b\b\b\b\b\b\b\b\b\b\b\b\b\b\b\b\b\b\b\b\b\b\b\b\b\r119/119 [==============================] - 4s 30ms/step - loss: 0.0348 - accuracy: 0.9816\n",
            "Epoch 34/50\n",
            "119/119 [==============================] - ETA: 0s - loss: 0.0344 - accuracy: 0.9832"
          ]
        },
        {
          "output_type": "stream",
          "name": "stderr",
          "text": [
            "WARNING:tensorflow:Early stopping conditioned on metric `val_loss` which is not available. Available metrics are: loss,accuracy\n"
          ]
        },
        {
          "output_type": "stream",
          "name": "stdout",
          "text": [
            "\b\b\b\b\b\b\b\b\b\b\b\b\b\b\b\b\b\b\b\b\b\b\b\b\b\b\b\b\b\b\b\b\b\b\b\b\b\b\b\b\b\b\b\b\b\b\b\b\b\b\b\b\b\b\b\b\b\b\b\b\b\b\b\b\b\b\b\b\b\b\b\b\b\b\b\b\b\b\b\b\b\b\b\b\r119/119 [==============================] - 4s 38ms/step - loss: 0.0344 - accuracy: 0.9832\n",
            "Epoch 35/50\n",
            "119/119 [==============================] - ETA: 0s - loss: 0.0341 - accuracy: 0.9838"
          ]
        },
        {
          "output_type": "stream",
          "name": "stderr",
          "text": [
            "WARNING:tensorflow:Early stopping conditioned on metric `val_loss` which is not available. Available metrics are: loss,accuracy\n"
          ]
        },
        {
          "output_type": "stream",
          "name": "stdout",
          "text": [
            "\b\b\b\b\b\b\b\b\b\b\b\b\b\b\b\b\b\b\b\b\b\b\b\b\b\b\b\b\b\b\b\b\b\b\b\b\b\b\b\b\b\b\b\b\b\b\b\b\b\b\b\b\b\b\b\b\b\b\b\b\b\b\b\b\b\b\b\b\b\b\b\b\b\b\b\b\b\b\b\b\b\b\b\b\r119/119 [==============================] - 4s 30ms/step - loss: 0.0341 - accuracy: 0.9838\n",
            "Epoch 36/50\n",
            "119/119 [==============================] - ETA: 0s - loss: 0.0313 - accuracy: 0.9840"
          ]
        },
        {
          "output_type": "stream",
          "name": "stderr",
          "text": [
            "WARNING:tensorflow:Early stopping conditioned on metric `val_loss` which is not available. Available metrics are: loss,accuracy\n"
          ]
        },
        {
          "output_type": "stream",
          "name": "stdout",
          "text": [
            "\b\b\b\b\b\b\b\b\b\b\b\b\b\b\b\b\b\b\b\b\b\b\b\b\b\b\b\b\b\b\b\b\b\b\b\b\b\b\b\b\b\b\b\b\b\b\b\b\b\b\b\b\b\b\b\b\b\b\b\b\b\b\b\b\b\b\b\b\b\b\b\b\b\b\b\b\b\b\b\b\b\b\b\b\r119/119 [==============================] - 4s 30ms/step - loss: 0.0313 - accuracy: 0.9840\n",
            "Epoch 37/50\n",
            "119/119 [==============================] - ETA: 0s - loss: 0.0327 - accuracy: 0.9832"
          ]
        },
        {
          "output_type": "stream",
          "name": "stderr",
          "text": [
            "WARNING:tensorflow:Early stopping conditioned on metric `val_loss` which is not available. Available metrics are: loss,accuracy\n"
          ]
        },
        {
          "output_type": "stream",
          "name": "stdout",
          "text": [
            "\b\b\b\b\b\b\b\b\b\b\b\b\b\b\b\b\b\b\b\b\b\b\b\b\b\b\b\b\b\b\b\b\b\b\b\b\b\b\b\b\b\b\b\b\b\b\b\b\b\b\b\b\b\b\b\b\b\b\b\b\b\b\b\b\b\b\b\b\b\b\b\b\b\b\b\b\b\b\b\b\b\b\b\b\r119/119 [==============================] - 4s 35ms/step - loss: 0.0327 - accuracy: 0.9832\n",
            "Epoch 38/50\n",
            "119/119 [==============================] - ETA: 0s - loss: 0.0318 - accuracy: 0.9829"
          ]
        },
        {
          "output_type": "stream",
          "name": "stderr",
          "text": [
            "WARNING:tensorflow:Early stopping conditioned on metric `val_loss` which is not available. Available metrics are: loss,accuracy\n"
          ]
        },
        {
          "output_type": "stream",
          "name": "stdout",
          "text": [
            "\b\b\b\b\b\b\b\b\b\b\b\b\b\b\b\b\b\b\b\b\b\b\b\b\b\b\b\b\b\b\b\b\b\b\b\b\b\b\b\b\b\b\b\b\b\b\b\b\b\b\b\b\b\b\b\b\b\b\b\b\b\b\b\b\b\b\b\b\b\b\b\b\b\b\b\b\b\b\b\b\b\b\b\b\r119/119 [==============================] - 4s 31ms/step - loss: 0.0318 - accuracy: 0.9829\n",
            "Epoch 39/50\n",
            "119/119 [==============================] - ETA: 0s - loss: 0.0331 - accuracy: 0.9832"
          ]
        },
        {
          "output_type": "stream",
          "name": "stderr",
          "text": [
            "WARNING:tensorflow:Early stopping conditioned on metric `val_loss` which is not available. Available metrics are: loss,accuracy\n"
          ]
        },
        {
          "output_type": "stream",
          "name": "stdout",
          "text": [
            "\b\b\b\b\b\b\b\b\b\b\b\b\b\b\b\b\b\b\b\b\b\b\b\b\b\b\b\b\b\b\b\b\b\b\b\b\b\b\b\b\b\b\b\b\b\b\b\b\b\b\b\b\b\b\b\b\b\b\b\b\b\b\b\b\b\b\b\b\b\b\b\b\b\b\b\b\b\b\b\b\b\b\b\b\r119/119 [==============================] - 4s 30ms/step - loss: 0.0331 - accuracy: 0.9832\n",
            "Epoch 40/50\n",
            "119/119 [==============================] - ETA: 0s - loss: 0.0325 - accuracy: 0.9845"
          ]
        },
        {
          "output_type": "stream",
          "name": "stderr",
          "text": [
            "WARNING:tensorflow:Early stopping conditioned on metric `val_loss` which is not available. Available metrics are: loss,accuracy\n"
          ]
        },
        {
          "output_type": "stream",
          "name": "stdout",
          "text": [
            "\b\b\b\b\b\b\b\b\b\b\b\b\b\b\b\b\b\b\b\b\b\b\b\b\b\b\b\b\b\b\b\b\b\b\b\b\b\b\b\b\b\b\b\b\b\b\b\b\b\b\b\b\b\b\b\b\b\b\b\b\b\b\b\b\b\b\b\b\b\b\b\b\b\b\b\b\b\b\b\b\b\b\b\b\r119/119 [==============================] - 4s 29ms/step - loss: 0.0325 - accuracy: 0.9845\n",
            "Epoch 41/50\n",
            "119/119 [==============================] - ETA: 0s - loss: 0.0319 - accuracy: 0.9831"
          ]
        },
        {
          "output_type": "stream",
          "name": "stderr",
          "text": [
            "WARNING:tensorflow:Early stopping conditioned on metric `val_loss` which is not available. Available metrics are: loss,accuracy\n"
          ]
        },
        {
          "output_type": "stream",
          "name": "stdout",
          "text": [
            "\b\b\b\b\b\b\b\b\b\b\b\b\b\b\b\b\b\b\b\b\b\b\b\b\b\b\b\b\b\b\b\b\b\b\b\b\b\b\b\b\b\b\b\b\b\b\b\b\b\b\b\b\b\b\b\b\b\b\b\b\b\b\b\b\b\b\b\b\b\b\b\b\b\b\b\b\b\b\b\b\b\b\b\b\r119/119 [==============================] - 4s 37ms/step - loss: 0.0319 - accuracy: 0.9831\n",
            "Epoch 42/50\n",
            "119/119 [==============================] - ETA: 0s - loss: 0.0313 - accuracy: 0.9840"
          ]
        },
        {
          "output_type": "stream",
          "name": "stderr",
          "text": [
            "WARNING:tensorflow:Early stopping conditioned on metric `val_loss` which is not available. Available metrics are: loss,accuracy\n"
          ]
        },
        {
          "output_type": "stream",
          "name": "stdout",
          "text": [
            "\b\b\b\b\b\b\b\b\b\b\b\b\b\b\b\b\b\b\b\b\b\b\b\b\b\b\b\b\b\b\b\b\b\b\b\b\b\b\b\b\b\b\b\b\b\b\b\b\b\b\b\b\b\b\b\b\b\b\b\b\b\b\b\b\b\b\b\b\b\b\b\b\b\b\b\b\b\b\b\b\b\b\b\b\r119/119 [==============================] - 4s 30ms/step - loss: 0.0313 - accuracy: 0.9840\n",
            "Epoch 43/50\n",
            "119/119 [==============================] - ETA: 0s - loss: 0.0333 - accuracy: 0.9823"
          ]
        },
        {
          "output_type": "stream",
          "name": "stderr",
          "text": [
            "WARNING:tensorflow:Early stopping conditioned on metric `val_loss` which is not available. Available metrics are: loss,accuracy\n"
          ]
        },
        {
          "output_type": "stream",
          "name": "stdout",
          "text": [
            "\b\b\b\b\b\b\b\b\b\b\b\b\b\b\b\b\b\b\b\b\b\b\b\b\b\b\b\b\b\b\b\b\b\b\b\b\b\b\b\b\b\b\b\b\b\b\b\b\b\b\b\b\b\b\b\b\b\b\b\b\b\b\b\b\b\b\b\b\b\b\b\b\b\b\b\b\b\b\b\b\b\b\b\b\r119/119 [==============================] - 4s 37ms/step - loss: 0.0333 - accuracy: 0.9823\n",
            "Epoch 44/50\n",
            "119/119 [==============================] - ETA: 0s - loss: 0.0315 - accuracy: 0.9836"
          ]
        },
        {
          "output_type": "stream",
          "name": "stderr",
          "text": [
            "WARNING:tensorflow:Early stopping conditioned on metric `val_loss` which is not available. Available metrics are: loss,accuracy\n"
          ]
        },
        {
          "output_type": "stream",
          "name": "stdout",
          "text": [
            "\b\b\b\b\b\b\b\b\b\b\b\b\b\b\b\b\b\b\b\b\b\b\b\b\b\b\b\b\b\b\b\b\b\b\b\b\b\b\b\b\b\b\b\b\b\b\b\b\b\b\b\b\b\b\b\b\b\b\b\b\b\b\b\b\b\b\b\b\b\b\b\b\b\b\b\b\b\b\b\b\b\b\b\b\r119/119 [==============================] - 4s 37ms/step - loss: 0.0315 - accuracy: 0.9836\n",
            "Epoch 45/50\n",
            "119/119 [==============================] - ETA: 0s - loss: 0.0322 - accuracy: 0.9829"
          ]
        },
        {
          "output_type": "stream",
          "name": "stderr",
          "text": [
            "WARNING:tensorflow:Early stopping conditioned on metric `val_loss` which is not available. Available metrics are: loss,accuracy\n"
          ]
        },
        {
          "output_type": "stream",
          "name": "stdout",
          "text": [
            "\b\b\b\b\b\b\b\b\b\b\b\b\b\b\b\b\b\b\b\b\b\b\b\b\b\b\b\b\b\b\b\b\b\b\b\b\b\b\b\b\b\b\b\b\b\b\b\b\b\b\b\b\b\b\b\b\b\b\b\b\b\b\b\b\b\b\b\b\b\b\b\b\b\b\b\b\b\b\b\b\b\b\b\b\r119/119 [==============================] - 4s 30ms/step - loss: 0.0322 - accuracy: 0.9829\n",
            "Epoch 46/50\n",
            "119/119 [==============================] - ETA: 0s - loss: 0.0323 - accuracy: 0.9837"
          ]
        },
        {
          "output_type": "stream",
          "name": "stderr",
          "text": [
            "WARNING:tensorflow:Early stopping conditioned on metric `val_loss` which is not available. Available metrics are: loss,accuracy\n"
          ]
        },
        {
          "output_type": "stream",
          "name": "stdout",
          "text": [
            "\b\b\b\b\b\b\b\b\b\b\b\b\b\b\b\b\b\b\b\b\b\b\b\b\b\b\b\b\b\b\b\b\b\b\b\b\b\b\b\b\b\b\b\b\b\b\b\b\b\b\b\b\b\b\b\b\b\b\b\b\b\b\b\b\b\b\b\b\b\b\b\b\b\b\b\b\b\b\b\b\b\b\b\b\r119/119 [==============================] - 3s 29ms/step - loss: 0.0323 - accuracy: 0.9837\n",
            "Epoch 47/50\n",
            "119/119 [==============================] - ETA: 0s - loss: 0.0312 - accuracy: 0.9842"
          ]
        },
        {
          "output_type": "stream",
          "name": "stderr",
          "text": [
            "WARNING:tensorflow:Early stopping conditioned on metric `val_loss` which is not available. Available metrics are: loss,accuracy\n"
          ]
        },
        {
          "output_type": "stream",
          "name": "stdout",
          "text": [
            "\b\b\b\b\b\b\b\b\b\b\b\b\b\b\b\b\b\b\b\b\b\b\b\b\b\b\b\b\b\b\b\b\b\b\b\b\b\b\b\b\b\b\b\b\b\b\b\b\b\b\b\b\b\b\b\b\b\b\b\b\b\b\b\b\b\b\b\b\b\b\b\b\b\b\b\b\b\b\b\b\b\b\b\b\r119/119 [==============================] - 4s 37ms/step - loss: 0.0312 - accuracy: 0.9842\n",
            "Epoch 48/50\n",
            "118/119 [============================>.] - ETA: 0s - loss: 0.0315 - accuracy: 0.9832"
          ]
        },
        {
          "output_type": "stream",
          "name": "stderr",
          "text": [
            "WARNING:tensorflow:Early stopping conditioned on metric `val_loss` which is not available. Available metrics are: loss,accuracy\n"
          ]
        },
        {
          "output_type": "stream",
          "name": "stdout",
          "text": [
            "\b\b\b\b\b\b\b\b\b\b\b\b\b\b\b\b\b\b\b\b\b\b\b\b\b\b\b\b\b\b\b\b\b\b\b\b\b\b\b\b\b\b\b\b\b\b\b\b\b\b\b\b\b\b\b\b\b\b\b\b\b\b\b\b\b\b\b\b\b\b\b\b\b\b\b\b\b\b\b\b\b\b\b\b\r119/119 [==============================] - 4s 37ms/step - loss: 0.0314 - accuracy: 0.9833\n",
            "Epoch 49/50\n",
            "119/119 [==============================] - ETA: 0s - loss: 0.0316 - accuracy: 0.9836"
          ]
        },
        {
          "output_type": "stream",
          "name": "stderr",
          "text": [
            "WARNING:tensorflow:Early stopping conditioned on metric `val_loss` which is not available. Available metrics are: loss,accuracy\n"
          ]
        },
        {
          "output_type": "stream",
          "name": "stdout",
          "text": [
            "\b\b\b\b\b\b\b\b\b\b\b\b\b\b\b\b\b\b\b\b\b\b\b\b\b\b\b\b\b\b\b\b\b\b\b\b\b\b\b\b\b\b\b\b\b\b\b\b\b\b\b\b\b\b\b\b\b\b\b\b\b\b\b\b\b\b\b\b\b\b\b\b\b\b\b\b\b\b\b\b\b\b\b\b\r119/119 [==============================] - 4s 29ms/step - loss: 0.0316 - accuracy: 0.9836\n",
            "Epoch 50/50\n",
            "119/119 [==============================] - ETA: 0s - loss: 0.0326 - accuracy: 0.9829"
          ]
        },
        {
          "output_type": "stream",
          "name": "stderr",
          "text": [
            "WARNING:tensorflow:Early stopping conditioned on metric `val_loss` which is not available. Available metrics are: loss,accuracy\n"
          ]
        },
        {
          "output_type": "stream",
          "name": "stdout",
          "text": [
            "119/119 [==============================] - 4s 35ms/step - loss: 0.0326 - accuracy: 0.9829\n",
            "102/102 [==============================] - 1s 6ms/step\n"
          ]
        }
      ]
    },
    {
      "cell_type": "code",
      "source": [
        "import pandas as pd\n",
        "\n",
        "# Load the CSV file\n",
        "results_df = pd.read_csv('submission.csv')\n",
        "\n",
        "# Define the expected number of rows\n",
        "expected_rows = 3263  # Adjust this number based on the specific requirement\n",
        "\n",
        "# Check if the number of rows in the CSV matches the expected number\n",
        "actual_rows = len(results_df)\n",
        "if actual_rows == expected_rows:\n",
        "    print(\"The length of the CSV file is correct. It contains {} rows.\".format(actual_rows))\n",
        "else:\n",
        "    print(\"Incorrect length! The CSV file contains {} rows, but it should contain {} rows.\".format(actual_rows, expected_rows))\n"
      ],
      "metadata": {
        "colab": {
          "base_uri": "https://localhost:8080/"
        },
        "id": "Ji7IxF4QoRgR",
        "outputId": "2dc73063-eedb-4f01-ecef-bdcddab7f0f1"
      },
      "execution_count": null,
      "outputs": [
        {
          "output_type": "stream",
          "name": "stdout",
          "text": [
            "The length of the CSV file is correct. It contains 3263 rows.\n"
          ]
        }
      ]
    },
    {
      "cell_type": "markdown",
      "source": [
        "#### In this model:\n",
        "* A simple neural network with two hidden layers and dropout regularization is used.\n",
        "* The model is compiled with Adam optimizer and a learning rate of 0.001.\n",
        "* Early stopping is used to terminate training early if the validation loss is not improving.\n",
        "* The fit function trains the model using the training data with a batch size of 64.\n",
        "* The predict function is used to generate predictions on the validation data, which are then evaluated with a classification report for performance metrics.\n",
        "\n",
        "#### Results:\n",
        "From this information, we can deduce that the model is relatively well-calibrated and performs reasonably on both classes, though it performs slightly better on class 0 than class 1. The overall accuracy is quite high."
      ],
      "metadata": {
        "id": "yATcQ_gqIx72"
      }
    },
    {
      "cell_type": "markdown",
      "source": [
        "## Confusion Matrix\n",
        "The confusion matrix helps to see the number of true positives, true negatives, false positives, and false negatives. A high number of false positives could mean the model is too aggressive in predicting the positive class, while a high number of false negatives could mean the model is too conservative."
      ],
      "metadata": {
        "id": "gO8ORIK4J3nw"
      }
    },
    {
      "cell_type": "code",
      "source": [
        "from sklearn.metrics import confusion_matrix\n",
        "import seaborn as sns\n",
        "import matplotlib.pyplot as plt\n",
        "\n",
        "# Assuming y_val_true_classes and y_val_pred_classes are the true and predicted class labels\n",
        "cm = confusion_matrix(y_val_true_classes, y_val_pred_classes)\n",
        "\n",
        "# Plotting the confusion matrix\n",
        "plt.figure(figsize=(8, 6))\n",
        "sns.heatmap(cm, annot=True, fmt='d', cmap='Blues', xticklabels=['Not Disaster', 'Disaster'], yticklabels=['Not Disaster', 'Disaster'])\n",
        "plt.title('Confusion Matrix')\n",
        "plt.ylabel('True Class')\n",
        "plt.xlabel('Predicted Class')\n",
        "plt.show()"
      ],
      "metadata": {
        "colab": {
          "base_uri": "https://localhost:8080/",
          "height": 564
        },
        "id": "jgAgUCEXJ6B4",
        "outputId": "934b0300-0c6b-4341-ce52-a802e47df94a"
      },
      "execution_count": null,
      "outputs": [
        {
          "output_type": "display_data",
          "data": {
            "text/plain": [
              "<Figure size 800x600 with 2 Axes>"
            ],
            "image/png": "[encoded data removed]"
          },
          "metadata": {}
        }
      ]
    },
    {
      "cell_type": "markdown",
      "source": [
        "#### Error Analysis\n",
        "\n",
        "* True Positives (TP): 491 tweets were correctly predicted as \"Disaster.\"\n",
        "* True Negatives (TN): 700 tweets were correctly predicted as \"Not Disaster.\"\n",
        "* False Positives (FP): 174 tweets were incorrectly predicted as \"Disaster\" when they were actually \"Not Disaster.\"\n",
        "* False Negatives (FN): 158 tweets were incorrectly predicted as \"Not Disaster\" when they were actually \"Disaster.\"\n",
        "\n",
        "From this confusion matrix, we can infer:\n",
        "\n",
        "* The model is more successful at identifying the \"Not Disaster\" class than the \"Disaster\" class, given that the true negative count is higher than the true positive count.\n",
        "* In the context of disaster response, false negatives might be more problematic than false positives, since failing to identify a disaster tweet could have more severe consequences than incorrectly identifying one."
      ],
      "metadata": {
        "id": "nZxroa01K00X"
      }
    },
    {
      "cell_type": "markdown",
      "source": [
        "## Precision Recall Curve\n",
        "The precision-recall curve is useful when dealing with imbalanced classes. It shows the tradeoff between precision and recall for different probability thresholds. A model with perfect precision and recall would have a curve that hugs the top right corner of the plot."
      ],
      "metadata": {
        "id": "KUBug6AZKGCQ"
      }
    },
    {
      "cell_type": "code",
      "source": [
        "from sklearn.metrics import precision_recall_curve\n",
        "from sklearn.metrics import average_precision_score\n",
        "\n",
        "# Calculate precision and recall\n",
        "precision, recall, thresholds = precision_recall_curve(y_val_true_classes, y_val_pred[:,1])\n",
        "\n",
        "# Calculate average precision score\n",
        "average_precision = average_precision_score(y_val_true_classes, y_val_pred[:,1])\n",
        "\n",
        "# Plotting the precision-recall curve\n",
        "plt.figure(figsize=(8, 6))\n",
        "plt.plot(recall, precision, label=f'Average precision = {average_precision:.2f}')\n",
        "plt.fill_between(recall, precision, alpha=0.2)\n",
        "plt.xlabel('Recall')\n",
        "plt.ylabel('Precision')\n",
        "plt.title('Precision-Recall curve')\n",
        "plt.legend()\n",
        "plt.show()\n"
      ],
      "metadata": {
        "colab": {
          "base_uri": "https://localhost:8080/",
          "height": 564
        },
        "id": "_phMmSDBKKSZ",
        "outputId": "0253c3eb-2330-4471-8543-bd744c56978f"
      },
      "execution_count": null,
      "outputs": [
        {
          "output_type": "display_data",
          "data": {
            "text/plain": [
              "<Figure size 800x600 with 1 Axes>"
            ],
            "image/png": "[encoded data removed]"
          },
          "metadata": {}
        }
      ]
    },
    {
      "cell_type": "markdown",
      "source": [
        "#### Error Analysis\n",
        "\n",
        "* Average Precision Score: The area under the PR curve is 0.85. This suggests that, on average, the model has a high precision across different levels of recall.\n",
        "* High Precision at High Recall: At the beginning of the curve (towards the left), the precision is high even as recall increases, which is desirable. This indicates that the model can identify a large proportion of positive instances (high recall) while maintaining a high precision.\n",
        "* Decline in Precision: As the recall continues to increase, precision gradually declines, which is typical as the model starts to make more false positive errors in its quest to retrieve more true positives.\n",
        "* Overall Evaluation: A PR curve closer to the top-right corner indicates a better performing model. A high average precision score suggests that the model's predictions are trustworthy when it predicts a positive class. This is particularly useful in cases where the cost of false positives is high."
      ],
      "metadata": {
        "id": "MKDwQy5mLefC"
      }
    },
    {
      "cell_type": "markdown",
      "source": [
        "## ROC Curve\n",
        "The ROC curve shows the tradeoff between the true positive rate and false positive rate. A model that performs no better than random guessing would fall along the diagonal line (navy dashed line), while a perfect model would go straight up the y-axis and then along the x-axis."
      ],
      "metadata": {
        "id": "-PQw_OcRKPCI"
      }
    },
    {
      "cell_type": "code",
      "source": [
        "from sklearn.metrics import roc_curve, auc\n",
        "\n",
        "# Compute ROC curve and ROC area\n",
        "fpr, tpr, _ = roc_curve(y_val_true_classes, y_val_pred[:,1])\n",
        "roc_auc = auc(fpr, tpr)\n",
        "\n",
        "# Plotting the ROC curve\n",
        "plt.figure(figsize=(8, 6))\n",
        "plt.plot(fpr, tpr, color='darkorange', label=f'ROC curve (area = {roc_auc:.2f})')\n",
        "plt.plot([0, 1], [0, 1], color='navy', linestyle='--')\n",
        "plt.xlabel('False Positive Rate')\n",
        "plt.ylabel('True Positive Rate')\n",
        "plt.title('Receiver Operating Characteristic')\n",
        "plt.legend(loc=\"lower right\")\n",
        "plt.show()"
      ],
      "metadata": {
        "colab": {
          "base_uri": "https://localhost:8080/",
          "height": 564
        },
        "id": "3ZDBkkUrKS2H",
        "outputId": "6f92de86-f0a9-4ff6-e984-aa7f57431d44"
      },
      "execution_count": null,
      "outputs": [
        {
          "output_type": "display_data",
          "data": {
            "text/plain": [
              "<Figure size 800x600 with 1 Axes>"
            ],
            "image/png": "[encoded data removed]"
          },
          "metadata": {}
        }
      ]
    },
    {
      "cell_type": "markdown",
      "source": [
        "#### Error Analysis\n",
        "\n",
        "* AUC Score: The AUC score is 0.85, which indicates that the model has a good measure of separability. It means there is an 85% chance that the model will be able to distinguish between positive class and negative class.\n",
        "* Performance: The curve stays well above the diagonal line (which represents the performance of a random classifier), especially at the lower false positive rates. This suggests that the model has a good true positive rate without incurring too many false positives.\n",
        "* Early Thresholds: The steep rise at the beginning of the curve indicates that the model quickly achieves high recall with a low false positive rate, which is desirable.\n",
        "* Potential Threshold Optimization: The model may have an optimal threshold where both the true positive rate and false positive rate are balanced in a way that is appropriate for the particular application. This threshold is where you get maximum TPR while incurring the least cost from FPR."
      ],
      "metadata": {
        "id": "9SWOkrN8LyYz"
      }
    },
    {
      "cell_type": "code",
      "source": [
        "!kaggle competitions submit -c nlp-getting-started -f /content/submission.csv -m submission"
      ],
      "metadata": {
        "colab": {
          "base_uri": "https://localhost:8080/"
        },
        "id": "5lhTJH69OT0S",
        "outputId": "9d7c11cb-c0f2-4634-f3bc-ae965d385af3"
      },
      "execution_count": null,
      "outputs": [
        {
          "output_type": "stream",
          "name": "stdout",
          "text": [
            "Warning: Looks like you're using an outdated API Version, please consider updating (server 1.6.12 / client 1.5.16)\n",
            "100% 22.2k/22.2k [00:01<00:00, 17.7kB/s]\n",
            "Successfully submitted to Natural Language Processing with Disaster Tweets"
          ]
        }
      ]
    },
    {
      "cell_type": "markdown",
      "source": [
        "Score: 0.76432"
      ],
      "metadata": {
        "id": "8KUyzJP03DvE"
      }
    },
    {
      "cell_type": "markdown",
      "source": [
        "Based on the series of experiments and analyses conducted using the disaster tweets dataset, the developed neural network model with TF-IDF vectorization achieved a good balance between precision and recall, as evidenced by an AUC of 0.85 and an average precision score of 0.86 in the precision-recall curve. This indicates a high capability of the model to distinguish between disaster-related and non-disaster-related tweets. The confusion matrix revealed that while the model predicts the \"Not Disaster\" class with high accuracy, it is more conservative when predicting the \"Disaster\" class, leading to a higher number of false negatives. This is an area that could be improved, as missing out on disaster-related tweets could have serious implications. The experiments with different batch sizes and learning rates suggested that a batch size of 64 and a learning rate of 0.001 are effective for this task. However, it was noted that hyperparameter tuning is highly dependent on the specific dataset and problem context, and these values may need adjustment if the context changes. Comparing the neural network model to a simple logistic regression baseline, the neural network demonstrated improved performance. This suggests that the additional complexity and non-linear capabilities of the neural network are beneficial for this classification task.\n",
        "\n",
        "# Future Improvements\n",
        "\n",
        "To further improve the model, it would be useful to investigate the false negatives in more detail, perhaps by examining the misclassified tweets to identify any patterns or common features. Additionally, strategies such as adjusting the decision threshold, using class weights, or gathering more data, especially for underrepresented classes, could be explored.\n",
        "\n",
        "# Conclusion\n",
        "\n",
        "In summary, the model developed in this study shows promise for classifying disaster-related tweets but would benefit from further refinement to reduce false negatives. This study also underscores the importance of a thorough understanding of the problem context and the consequences of different types of classification errors. The model and its parameters should be tuned not just for overall accuracy, but also for the specific needs and priorities of the application at hand."
      ],
      "metadata": {
        "id": "hb35gOTCCwcw"
      }
    }
  ],
  "metadata": {
    "colab": {
      "provenance": [],
      "include_colab_link": true
    },
    "kernelspec": {
      "display_name": "Python 3",
      "name": "python3"
    },
    "language_info": {
      "name": "python"
    }
  },
  "nbformat": 4,
  "nbformat_minor": 0
}